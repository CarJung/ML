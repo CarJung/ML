{
 "cells": [
  {
   "cell_type": "code",
   "execution_count": 3,
   "metadata": {},
   "outputs": [],
   "source": [
    "import pandas as pd\n",
    "import numpy as np\n",
    "import os, os.path as op\n",
    "import tensorflow as tf\n",
    "import tensorflow.keras as keras\n",
    "import plotly.graph_objects as go\n",
    "\n",
    "from sklearn.model_selection import train_test_split\n",
    "\n",
    "import glob"
   ]
  },
  {
   "cell_type": "markdown",
   "metadata": {},
   "source": [
    "data: https://www.kaggle.com/praveengovi/coronahack-chest-xraydataset "
   ]
  },
  {
   "cell_type": "code",
   "execution_count": 30,
   "metadata": {},
   "outputs": [],
   "source": [
    "df = pd.read_csv('Chest_xray_Corona_Metadata.csv')\n",
    "\n",
    "train_df = df[df['Dataset_type'] == 'TRAIN']\n",
    "test_df = df[df['Dataset_type'] == 'TEST']\n"
   ]
  },
  {
   "cell_type": "code",
   "execution_count": 27,
   "metadata": {},
   "outputs": [],
   "source": [
    "train_path = 'Coronahack-Chest-XRay-Dataset\\\\Coronahack-Chest-XRay-Dataset\\\\train'\n",
    "test_path = 'Coronahack-Chest-XRay-Dataset\\\\Coronahack-Chest-XRay-Dataset\\\\test' "
   ]
  },
  {
   "cell_type": "code",
   "execution_count": 31,
   "metadata": {},
   "outputs": [
    {
     "data": {
      "text/plain": [
       "(5286, 2)"
      ]
     },
     "execution_count": 31,
     "metadata": {},
     "output_type": "execute_result"
    }
   ],
   "source": [
    "filled_train_df = train_df.fillna('Unknown')\n",
    "filled_test_df = test_df.fillna('Unknown')\n",
    "\n",
    "final_train_df = filled_train_df[['X_ray_image_name', 'Label']]\n",
    "final_test_df = test_df.fillna('Unknown')\n",
    "\n",
    "final_train_df.shape"
   ]
  },
  {
   "cell_type": "code",
   "execution_count": 33,
   "metadata": {},
   "outputs": [
    {
     "name": "stdout",
     "output_type": "stream",
     "text": [
      "Pnemonia    3155\n",
      "Normal      1073\n",
      "Name: Label, dtype: int64\n",
      "Pnemonia    789\n",
      "Normal      269\n",
      "Name: Label, dtype: int64\n"
     ]
    }
   ],
   "source": [
    "train_data, valid_data = train_test_split(final_train_df, test_size=0.2, stratify=final_train_df['Label'], random_state=42)\n",
    "print(train_data['Label'].value_counts())\n",
    "print(valid_data['Label'].value_counts())"
   ]
  },
  {
   "cell_type": "code",
   "execution_count": 34,
   "metadata": {},
   "outputs": [
    {
     "data": {
      "text/html": [
       "<div>\n",
       "<style scoped>\n",
       "    .dataframe tbody tr th:only-of-type {\n",
       "        vertical-align: middle;\n",
       "    }\n",
       "\n",
       "    .dataframe tbody tr th {\n",
       "        vertical-align: top;\n",
       "    }\n",
       "\n",
       "    .dataframe thead th {\n",
       "        text-align: right;\n",
       "    }\n",
       "</style>\n",
       "<table border=\"1\" class=\"dataframe\">\n",
       "  <thead>\n",
       "    <tr style=\"text-align: right;\">\n",
       "      <th></th>\n",
       "      <th>X_ray_image_name</th>\n",
       "      <th>Label</th>\n",
       "    </tr>\n",
       "  </thead>\n",
       "  <tbody>\n",
       "    <tr>\n",
       "      <th>3743</th>\n",
       "      <td>person436_virus_886.jpeg</td>\n",
       "      <td>Pnemonia</td>\n",
       "    </tr>\n",
       "    <tr>\n",
       "      <th>1081</th>\n",
       "      <td>NORMAL2-IM-1102-0001.jpeg</td>\n",
       "      <td>Normal</td>\n",
       "    </tr>\n",
       "    <tr>\n",
       "      <th>2762</th>\n",
       "      <td>person1670_bacteria_4425.jpeg</td>\n",
       "      <td>Pnemonia</td>\n",
       "    </tr>\n",
       "    <tr>\n",
       "      <th>1701</th>\n",
       "      <td>person1239_virus_2099.jpeg</td>\n",
       "      <td>Pnemonia</td>\n",
       "    </tr>\n",
       "    <tr>\n",
       "      <th>746</th>\n",
       "      <td>NORMAL2-IM-0600-0001.jpeg</td>\n",
       "      <td>Normal</td>\n",
       "    </tr>\n",
       "  </tbody>\n",
       "</table>\n",
       "</div>"
      ],
      "text/plain": [
       "                   X_ray_image_name     Label\n",
       "3743       person436_virus_886.jpeg  Pnemonia\n",
       "1081      NORMAL2-IM-1102-0001.jpeg    Normal\n",
       "2762  person1670_bacteria_4425.jpeg  Pnemonia\n",
       "1701     person1239_virus_2099.jpeg  Pnemonia\n",
       "746       NORMAL2-IM-0600-0001.jpeg    Normal"
      ]
     },
     "execution_count": 34,
     "metadata": {},
     "output_type": "execute_result"
    }
   ],
   "source": [
    "train_data.head()"
   ]
  },
  {
   "cell_type": "code",
   "execution_count": 55,
   "metadata": {},
   "outputs": [
    {
     "name": "stdout",
     "output_type": "stream",
     "text": [
      "Found 0 validated image filenames belonging to 0 classes.\n"
     ]
    },
    {
     "name": "stderr",
     "output_type": "stream",
     "text": [
      "C:\\Users\\ja\\anaconda3\\lib\\site-packages\\keras_preprocessing\\image\\dataframe_iterator.py:279: UserWarning: Found 624 invalid image filename(s) in x_col=\"X_ray_image_name\". These filename(s) will be ignored.\n",
      "  warnings.warn(\n"
     ]
    }
   ],
   "source": [
    "gen =keras.preprocessing.image.ImageDataGenerator(rescale=1/255.)\n",
    "\n",
    "train_img = gen.flow_from_dataframe(\n",
    "    dataframe=train_data,\n",
    "    directory=train_path,\n",
    "    x_col='X_ray_image_name',\n",
    "    y_col='Label',\n",
    "    target_size=(224, 224),\n",
    "    batch_size=32,\n",
    "    class_mode='binary', \n",
    "    color_mode='grayscale',\n",
    "    shuffle=True\n",
    ")"
   ]
  },
  {
   "cell_type": "code",
   "execution_count": 56,
   "metadata": {},
   "outputs": [
    {
     "name": "stdout",
     "output_type": "stream",
     "text": [
      "Found 624 validated image filenames belonging to 2 classes.\n"
     ]
    }
   ],
   "source": [
    "test_img = gen.flow_from_dataframe(\n",
    "    dataframe=final_test_df,\n",
    "    directory=test_path,\n",
    "    x_col='X_ray_image_name',\n",
    "    y_col='Label',\n",
    "    target_size=(224, 224),\n",
    "    batch_size=32,\n",
    "    class_mode='binary',\n",
    "    color_mode='grayscale',\n",
    "    shuffle=False\n",
    ")"
   ]
  },
  {
   "cell_type": "code",
   "execution_count": 35,
   "metadata": {},
   "outputs": [
    {
     "data": {
      "text/html": [
       "<div>\n",
       "<style scoped>\n",
       "    .dataframe tbody tr th:only-of-type {\n",
       "        vertical-align: middle;\n",
       "    }\n",
       "\n",
       "    .dataframe tbody tr th {\n",
       "        vertical-align: top;\n",
       "    }\n",
       "\n",
       "    .dataframe thead th {\n",
       "        text-align: right;\n",
       "    }\n",
       "</style>\n",
       "<table border=\"1\" class=\"dataframe\">\n",
       "  <thead>\n",
       "    <tr style=\"text-align: right;\">\n",
       "      <th></th>\n",
       "      <th>X_ray_image_name</th>\n",
       "      <th>Label</th>\n",
       "    </tr>\n",
       "  </thead>\n",
       "  <tbody>\n",
       "    <tr>\n",
       "      <th>3481</th>\n",
       "      <td>person367_bacteria_1665.jpeg</td>\n",
       "      <td>Pnemonia</td>\n",
       "    </tr>\n",
       "    <tr>\n",
       "      <th>1128</th>\n",
       "      <td>NORMAL2-IM-1122-0001.jpeg</td>\n",
       "      <td>Normal</td>\n",
       "    </tr>\n",
       "    <tr>\n",
       "      <th>1897</th>\n",
       "      <td>person1343_virus_2316.jpeg</td>\n",
       "      <td>Pnemonia</td>\n",
       "    </tr>\n",
       "    <tr>\n",
       "      <th>2314</th>\n",
       "      <td>person1497_bacteria_3912.jpeg</td>\n",
       "      <td>Pnemonia</td>\n",
       "    </tr>\n",
       "    <tr>\n",
       "      <th>1072</th>\n",
       "      <td>NORMAL2-IM-1024-0001.jpeg</td>\n",
       "      <td>Normal</td>\n",
       "    </tr>\n",
       "  </tbody>\n",
       "</table>\n",
       "</div>"
      ],
      "text/plain": [
       "                   X_ray_image_name     Label\n",
       "3481   person367_bacteria_1665.jpeg  Pnemonia\n",
       "1128      NORMAL2-IM-1122-0001.jpeg    Normal\n",
       "1897     person1343_virus_2316.jpeg  Pnemonia\n",
       "2314  person1497_bacteria_3912.jpeg  Pnemonia\n",
       "1072      NORMAL2-IM-1024-0001.jpeg    Normal"
      ]
     },
     "execution_count": 35,
     "metadata": {},
     "output_type": "execute_result"
    }
   ],
   "source": [
    "valid_data.head()"
   ]
  },
  {
   "cell_type": "code",
   "execution_count": 52,
   "metadata": {},
   "outputs": [
    {
     "name": "stdout",
     "output_type": "stream",
     "text": [
      "Found 1058 validated image filenames belonging to 2 classes.\n"
     ]
    }
   ],
   "source": [
    "valid_img = gen.flow_from_dataframe(\n",
    "    dataframe=valid_data,\n",
    "    directory=train_path,\n",
    "    x_col='X_ray_image_name',\n",
    "    y_col='Label',\n",
    "    target_size=(224, 224),\n",
    "    batch_size=32,\n",
    "    class_mode='binary', \n",
    "    color_mode='grayscale',\n",
    "    shuffle=True)"
   ]
  },
  {
   "cell_type": "code",
   "execution_count": 4,
   "metadata": {},
   "outputs": [],
   "source": [
    "def create_model():\n",
    "    model = keras.Sequential([\n",
    "        keras.layers.Conv2D(filters= 10, kernel_size=(3,3), strides = 1, padding='valid',input_shape=(224,224,1), activation='selu'),\n",
    "        keras.layers.MaxPooling2D(pool_size=(2,2)),\n",
    "        keras.layers.Conv2D(filters= 10, kernel_size=(3,3), strides = 1, padding='valid', activation='selu'),\n",
    "        keras.layers.MaxPooling2D(pool_size=(2,2)),\n",
    "        keras.layers.Conv2D(filters= 10, kernel_size=(3,3), strides = 1, padding='valid', activation='selu'),\n",
    "        keras.layers.Flatten(),\n",
    "        keras.layers.Dense(1, activation='sigmoid')\n",
    "    ])\n",
    "    return model"
   ]
  },
  {
   "cell_type": "code",
   "execution_count": 5,
   "metadata": {},
   "outputs": [
    {
     "name": "stdout",
     "output_type": "stream",
     "text": [
      "Model: \"sequential\"\n",
      "_________________________________________________________________\n",
      "Layer (type)                 Output Shape              Param #   \n",
      "=================================================================\n",
      "conv2d (Conv2D)              (None, 222, 222, 10)      100       \n",
      "_________________________________________________________________\n",
      "max_pooling2d (MaxPooling2D) (None, 111, 111, 10)      0         \n",
      "_________________________________________________________________\n",
      "conv2d_1 (Conv2D)            (None, 109, 109, 10)      910       \n",
      "_________________________________________________________________\n",
      "max_pooling2d_1 (MaxPooling2 (None, 54, 54, 10)        0         \n",
      "_________________________________________________________________\n",
      "conv2d_2 (Conv2D)            (None, 52, 52, 10)        910       \n",
      "_________________________________________________________________\n",
      "flatten (Flatten)            (None, 27040)             0         \n",
      "_________________________________________________________________\n",
      "dense (Dense)                (None, 1)                 27041     \n",
      "=================================================================\n",
      "Total params: 28,961\n",
      "Trainable params: 28,961\n",
      "Non-trainable params: 0\n",
      "_________________________________________________________________\n"
     ]
    }
   ],
   "source": [
    "create_model().summary()"
   ]
  },
  {
   "cell_type": "code",
   "execution_count": 47,
   "metadata": {},
   "outputs": [],
   "source": [
    "metrics = [\n",
    "    keras.metrics.TruePositives(name='tp'),\n",
    "    keras.metrics.FalsePositives(name='fp'),\n",
    "    keras.metrics.TrueNegatives(name='tn'),\n",
    "    keras.metrics.FalseNegatives(name='fn'), \n",
    "    'accuracy',\n",
    "    keras.metrics.Precision(name='precision'),\n",
    "    keras.metrics.Recall(name='recall'),\n",
    "    keras.metrics.AUC(name='auc', curve='ROC')\n",
    "]\n",
    "callbacks = [tf.keras.callbacks.EarlyStopping(monitor='val_loss', patience=2, restore_best_weights=True)]\n",
    "callbacks_baseline = [tf.keras.callbacks.EarlyStopping(monitor='val_loss', patience=3, restore_best_weights=True)]"
   ]
  },
  {
   "cell_type": "code",
   "execution_count": 48,
   "metadata": {},
   "outputs": [],
   "source": [
    "model = create_model()\n",
    "model.compile(loss = 'binary_crossentropy', optimizer= 'Adam', metrics = metrics)"
   ]
  },
  {
   "cell_type": "code",
   "execution_count": 53,
   "metadata": {},
   "outputs": [
    {
     "name": "stdout",
     "output_type": "stream",
     "text": [
      "Epoch 1/10\n",
      "133/133 [==============================] - 101s 750ms/step - loss: 0.2822 - tp: 2965.0000 - fp: 294.0000 - tn: 779.0000 - fn: 190.0000 - accuracy: 0.8855 - precision: 0.9098 - recall: 0.9398 - auc: 0.9300 - val_loss: 0.1424 - val_tp: 771.0000 - val_fp: 33.0000 - val_tn: 236.0000 - val_fn: 18.0000 - val_accuracy: 0.9518 - val_precision: 0.9590 - val_recall: 0.9772 - val_auc: 0.9839\n",
      "Epoch 2/10\n",
      "133/133 [==============================] - 62s 465ms/step - loss: 0.1313 - tp: 3054.0000 - fp: 123.0000 - tn: 950.0000 - fn: 101.0000 - accuracy: 0.9470 - precision: 0.9613 - recall: 0.9680 - auc: 0.9853 - val_loss: 0.1139 - val_tp: 774.0000 - val_fp: 33.0000 - val_tn: 236.0000 - val_fn: 15.0000 - val_accuracy: 0.9546 - val_precision: 0.9591 - val_recall: 0.9810 - val_auc: 0.9896\n",
      "Epoch 3/10\n",
      "133/133 [==============================] - 62s 464ms/step - loss: 0.0976 - tp: 3084.0000 - fp: 85.0000 - tn: 988.0000 - fn: 71.0000 - accuracy: 0.9631 - precision: 0.9732 - recall: 0.9775 - auc: 0.9920 - val_loss: 0.1449 - val_tp: 778.0000 - val_fp: 38.0000 - val_tn: 231.0000 - val_fn: 11.0000 - val_accuracy: 0.9537 - val_precision: 0.9534 - val_recall: 0.9861 - val_auc: 0.9832\n",
      "Epoch 4/10\n",
      "133/133 [==============================] - 62s 466ms/step - loss: 0.0951 - tp: 3088.0000 - fp: 80.0000 - tn: 993.0000 - fn: 67.0000 - accuracy: 0.9652 - precision: 0.9747 - recall: 0.9788 - auc: 0.9924 - val_loss: 0.1698 - val_tp: 784.0000 - val_fp: 63.0000 - val_tn: 206.0000 - val_fn: 5.0000 - val_accuracy: 0.9357 - val_precision: 0.9256 - val_recall: 0.9937 - val_auc: 0.9844\n",
      "Epoch 5/10\n",
      "133/133 [==============================] - 62s 465ms/step - loss: 0.0685 - tp: 3103.0000 - fp: 57.0000 - tn: 1016.0000 - fn: 52.0000 - accuracy: 0.9742 - precision: 0.9820 - recall: 0.9835 - auc: 0.9963 - val_loss: 0.1026 - val_tp: 775.0000 - val_fp: 23.0000 - val_tn: 246.0000 - val_fn: 14.0000 - val_accuracy: 0.9650 - val_precision: 0.9712 - val_recall: 0.9823 - val_auc: 0.9891\n",
      "Epoch 6/10\n",
      "133/133 [==============================] - 62s 465ms/step - loss: 0.0923 - tp: 3081.0000 - fp: 80.0000 - tn: 993.0000 - fn: 74.0000 - accuracy: 0.9636 - precision: 0.9747 - recall: 0.9765 - auc: 0.9920 - val_loss: 0.1114 - val_tp: 767.0000 - val_fp: 20.0000 - val_tn: 249.0000 - val_fn: 22.0000 - val_accuracy: 0.9603 - val_precision: 0.9746 - val_recall: 0.9721 - val_auc: 0.9888\n",
      "Epoch 7/10\n",
      "133/133 [==============================] - 62s 465ms/step - loss: 0.0570 - tp: 3106.0000 - fp: 51.0000 - tn: 1022.0000 - fn: 49.0000 - accuracy: 0.9763 - precision: 0.9838 - recall: 0.9845 - auc: 0.9975 - val_loss: 0.0991 - val_tp: 779.0000 - val_fp: 24.0000 - val_tn: 245.0000 - val_fn: 10.0000 - val_accuracy: 0.9679 - val_precision: 0.9701 - val_recall: 0.9873 - val_auc: 0.9905\n",
      "Epoch 8/10\n",
      "133/133 [==============================] - 61s 461ms/step - loss: 0.0401 - tp: 3123.0000 - fp: 31.0000 - tn: 1042.0000 - fn: 32.0000 - accuracy: 0.9851 - precision: 0.9902 - recall: 0.9899 - auc: 0.9989 - val_loss: 0.0890 - val_tp: 771.0000 - val_fp: 18.0000 - val_tn: 251.0000 - val_fn: 18.0000 - val_accuracy: 0.9660 - val_precision: 0.9772 - val_recall: 0.9772 - val_auc: 0.9920\n",
      "Epoch 9/10\n",
      "133/133 [==============================] - 61s 456ms/step - loss: 0.0334 - tp: 3132.0000 - fp: 21.0000 - tn: 1052.0000 - fn: 23.0000 - accuracy: 0.9896 - precision: 0.9933 - recall: 0.9927 - auc: 0.9993 - val_loss: 0.1036 - val_tp: 779.0000 - val_fp: 29.0000 - val_tn: 240.0000 - val_fn: 10.0000 - val_accuracy: 0.9631 - val_precision: 0.9641 - val_recall: 0.9873 - val_auc: 0.9894\n",
      "Epoch 10/10\n",
      "133/133 [==============================] - 60s 453ms/step - loss: 0.0300 - tp: 3129.0000 - fp: 19.0000 - tn: 1054.0000 - fn: 26.0000 - accuracy: 0.9894 - precision: 0.9940 - recall: 0.9918 - auc: 0.9994 - val_loss: 0.1095 - val_tp: 780.0000 - val_fp: 27.0000 - val_tn: 242.0000 - val_fn: 9.0000 - val_accuracy: 0.9660 - val_precision: 0.9665 - val_recall: 0.9886 - val_auc: 0.9876\n"
     ]
    }
   ],
   "source": [
    "history = model.fit(train_img, epochs=10, validation_data=valid_img, steps_per_epoch=len(train_img), validation_steps=len(valid_img), callbacks=callbacks_baseline)"
   ]
  },
  {
   "cell_type": "code",
   "execution_count": 57,
   "metadata": {},
   "outputs": [],
   "source": [
    "import matplotlib.pyplot as plt\n",
    "import seaborn as sns\n",
    "\n",
    "plt.style.use('fivethirtyeight')\n"
   ]
  },
  {
   "cell_type": "code",
   "execution_count": 68,
   "metadata": {},
   "outputs": [],
   "source": [
    "def plot_learning_curves(*histories):\n",
    "    \"\"\"\n",
    "    Returns separate loss curves for training and validation metrics.\n",
    "    \"\"\" \n",
    "    from plotly.subplots import make_subplots\n",
    "    fig = make_subplots(rows=3, cols=1, subplot_titles=('Loss', 'Recall', 'AUC'))\n",
    "    for history in histories:\n",
    "        loss = history[1].history.get('loss')\n",
    "        val_loss = history[1].history.get('val_loss')\n",
    "\n",
    "        auc = history[1].history.get('auc')\n",
    "        val_auc = history[1].history.get('val_auc')\n",
    "\n",
    "        recall = history[1].history.get('recall')\n",
    "        val_recall = history[1].history.get('val_recall')\n",
    "\n",
    "        epochs = np.arange(1, len(history[1].history.get('loss')) + 1)\n",
    "\n",
    "        fig.add_trace(go.Scatter(x=epochs, y=loss, name=history[0] + \" train\"), row=1, col=1)\n",
    "        fig.add_trace(go.Scatter(x=epochs, y=val_loss, name=history[0] + \" val\"), row=1, col=1)\n",
    "        fig.add_trace(go.Scatter(x=epochs, y=recall, name=history[0] + \" train\"), row=2, col=1)\n",
    "        fig.add_trace(go.Scatter(x=epochs, y=val_recall, name=history[0] + \" val\"), row=2, col=1)\n",
    "        fig.add_trace(go.Scatter(x=epochs, y=auc, name=history[0] + \" train\"), row=3, col=1)\n",
    "        fig.add_trace(go.Scatter(x=epochs, y=val_auc, name=history[0] + \"val\"), row=3, col=1)\n",
    "\n",
    "    # Update xaxis properties\n",
    "    fig.update_xaxes(title_text=\"Epochs\", row=1, col=1)\n",
    "    fig.update_xaxes(title_text=\"Epochs\", row=2, col=1)\n",
    "    fig.update_xaxes(title_text=\"Epochs\", row=3, col=1)\n",
    "\n",
    "    # Update yaxis properties\n",
    "    fig.update_yaxes(title_text=\"Loss\", row=1, col=1)\n",
    "    fig.update_yaxes(title_text=\"Recall\", row=2, col=1)\n",
    "    fig.update_yaxes(title_text=\"AUC\", row=3, col=1)\n",
    "\n",
    "    fig.update_layout(title_text=\"Learning Curves\", height=1500)\n",
    "\n",
    "    fig.show()\n",
    "\n",
    "\n",
    "def plot_roc_curve(*datas):\n",
    "    from sklearn.metrics import roc_curve\n",
    "    fig = go.Figure()\n",
    "    for data in datas:\n",
    "        name = data[0]\n",
    "        y_true = data[1]\n",
    "        pred = data[2]\n",
    "\n",
    "        fpr, tpr, _ = roc_curve(y_true, pred)\n",
    "        fig.add_trace(go.Scatter(x=fpr, y=tpr, name=name))\n",
    "\n",
    "    fig.update_yaxes(title_text=\"TPR\")\n",
    "    fig.update_xaxes(title_text=\"FPR\")\n",
    "    fig.update_layout(title_text=\"ROC Curve\")\n",
    "    fig.show()"
   ]
  },
  {
   "cell_type": "code",
   "execution_count": 65,
   "metadata": {},
   "outputs": [
    {
     "data": {
      "application/vnd.plotly.v1+json": {
       "config": {
        "plotlyServerURL": "https://plot.ly"
       },
       "data": [
        {
         "name": "train train",
         "type": "scatter",
         "x": [
          1,
          2,
          3,
          4,
          5,
          6,
          7,
          8,
          9,
          10
         ],
         "xaxis": "x",
         "y": [
          0.28222641348838806,
          0.13125890493392944,
          0.09759356826543808,
          0.09505590796470642,
          0.06845877319574356,
          0.09231136739253998,
          0.05702788755297661,
          0.04010246694087982,
          0.03339889645576477,
          0.030002858489751816
         ],
         "yaxis": "y"
        },
        {
         "name": "train val",
         "type": "scatter",
         "x": [
          1,
          2,
          3,
          4,
          5,
          6,
          7,
          8,
          9,
          10
         ],
         "xaxis": "x",
         "y": [
          0.1424364298582077,
          0.11390911787748337,
          0.1448804885149002,
          0.16984593868255615,
          0.10257096588611603,
          0.11136965453624725,
          0.09905459731817245,
          0.08903147280216217,
          0.10361054539680481,
          0.10948619246482849
         ],
         "yaxis": "y"
        },
        {
         "name": "train train",
         "type": "scatter",
         "x": [
          1,
          2,
          3,
          4,
          5,
          6,
          7,
          8,
          9,
          10
         ],
         "xaxis": "x2",
         "y": [
          0.9397781491279602,
          0.9679872989654541,
          0.9774960279464722,
          0.9787638783454895,
          0.9835182428359985,
          0.9765451550483704,
          0.9844691157341003,
          0.9898573756217957,
          0.9927099943161011,
          0.9917591214179993
         ],
         "yaxis": "y2"
        },
        {
         "name": "train val",
         "type": "scatter",
         "x": [
          1,
          2,
          3,
          4,
          5,
          6,
          7,
          8,
          9,
          10
         ],
         "xaxis": "x2",
         "y": [
          0.9771863222122192,
          0.980988621711731,
          0.9860582947731018,
          0.9936628937721252,
          0.9822559952735901,
          0.9721165895462036,
          0.9873257279396057,
          0.9771863222122192,
          0.9873257279396057,
          0.9885931611061096
         ],
         "yaxis": "y2"
        },
        {
         "name": "train train",
         "type": "scatter",
         "x": [
          1,
          2,
          3,
          4,
          5,
          6,
          7,
          8,
          9,
          10
         ],
         "xaxis": "x3",
         "y": [
          0.9300150275230408,
          0.9852650165557861,
          0.9920035600662231,
          0.9924444556236267,
          0.9963255524635315,
          0.9920104742050171,
          0.9975473880767822,
          0.9989281892776489,
          0.9993109703063965,
          0.9993630647659302
         ],
         "yaxis": "y3"
        },
        {
         "name": "trainval",
         "type": "scatter",
         "x": [
          1,
          2,
          3,
          4,
          5,
          6,
          7,
          8,
          9,
          10
         ],
         "xaxis": "x3",
         "y": [
          0.9839239716529846,
          0.9896485805511475,
          0.9831818342208862,
          0.9843997955322266,
          0.9891279339790344,
          0.9888145327568054,
          0.9905343651771545,
          0.9920278191566467,
          0.9894294738769531,
          0.9876296520233154
         ],
         "yaxis": "y3"
        }
       ],
       "layout": {
        "annotations": [
         {
          "font": {
           "size": 16
          },
          "showarrow": false,
          "text": "Loss",
          "x": 0.5,
          "xanchor": "center",
          "xref": "paper",
          "y": 1,
          "yanchor": "bottom",
          "yref": "paper"
         },
         {
          "font": {
           "size": 16
          },
          "showarrow": false,
          "text": "Recall",
          "x": 0.5,
          "xanchor": "center",
          "xref": "paper",
          "y": 0.6111111111111112,
          "yanchor": "bottom",
          "yref": "paper"
         },
         {
          "font": {
           "size": 16
          },
          "showarrow": false,
          "text": "AUC",
          "x": 0.5,
          "xanchor": "center",
          "xref": "paper",
          "y": 0.22222222222222224,
          "yanchor": "bottom",
          "yref": "paper"
         }
        ],
        "height": 1500,
        "template": {
         "data": {
          "bar": [
           {
            "error_x": {
             "color": "#2a3f5f"
            },
            "error_y": {
             "color": "#2a3f5f"
            },
            "marker": {
             "line": {
              "color": "#E5ECF6",
              "width": 0.5
             },
             "pattern": {
              "fillmode": "overlay",
              "size": 10,
              "solidity": 0.2
             }
            },
            "type": "bar"
           }
          ],
          "barpolar": [
           {
            "marker": {
             "line": {
              "color": "#E5ECF6",
              "width": 0.5
             },
             "pattern": {
              "fillmode": "overlay",
              "size": 10,
              "solidity": 0.2
             }
            },
            "type": "barpolar"
           }
          ],
          "carpet": [
           {
            "aaxis": {
             "endlinecolor": "#2a3f5f",
             "gridcolor": "white",
             "linecolor": "white",
             "minorgridcolor": "white",
             "startlinecolor": "#2a3f5f"
            },
            "baxis": {
             "endlinecolor": "#2a3f5f",
             "gridcolor": "white",
             "linecolor": "white",
             "minorgridcolor": "white",
             "startlinecolor": "#2a3f5f"
            },
            "type": "carpet"
           }
          ],
          "choropleth": [
           {
            "colorbar": {
             "outlinewidth": 0,
             "ticks": ""
            },
            "type": "choropleth"
           }
          ],
          "contour": [
           {
            "colorbar": {
             "outlinewidth": 0,
             "ticks": ""
            },
            "colorscale": [
             [
              0,
              "#0d0887"
             ],
             [
              0.1111111111111111,
              "#46039f"
             ],
             [
              0.2222222222222222,
              "#7201a8"
             ],
             [
              0.3333333333333333,
              "#9c179e"
             ],
             [
              0.4444444444444444,
              "#bd3786"
             ],
             [
              0.5555555555555556,
              "#d8576b"
             ],
             [
              0.6666666666666666,
              "#ed7953"
             ],
             [
              0.7777777777777778,
              "#fb9f3a"
             ],
             [
              0.8888888888888888,
              "#fdca26"
             ],
             [
              1,
              "#f0f921"
             ]
            ],
            "type": "contour"
           }
          ],
          "contourcarpet": [
           {
            "colorbar": {
             "outlinewidth": 0,
             "ticks": ""
            },
            "type": "contourcarpet"
           }
          ],
          "heatmap": [
           {
            "colorbar": {
             "outlinewidth": 0,
             "ticks": ""
            },
            "colorscale": [
             [
              0,
              "#0d0887"
             ],
             [
              0.1111111111111111,
              "#46039f"
             ],
             [
              0.2222222222222222,
              "#7201a8"
             ],
             [
              0.3333333333333333,
              "#9c179e"
             ],
             [
              0.4444444444444444,
              "#bd3786"
             ],
             [
              0.5555555555555556,
              "#d8576b"
             ],
             [
              0.6666666666666666,
              "#ed7953"
             ],
             [
              0.7777777777777778,
              "#fb9f3a"
             ],
             [
              0.8888888888888888,
              "#fdca26"
             ],
             [
              1,
              "#f0f921"
             ]
            ],
            "type": "heatmap"
           }
          ],
          "heatmapgl": [
           {
            "colorbar": {
             "outlinewidth": 0,
             "ticks": ""
            },
            "colorscale": [
             [
              0,
              "#0d0887"
             ],
             [
              0.1111111111111111,
              "#46039f"
             ],
             [
              0.2222222222222222,
              "#7201a8"
             ],
             [
              0.3333333333333333,
              "#9c179e"
             ],
             [
              0.4444444444444444,
              "#bd3786"
             ],
             [
              0.5555555555555556,
              "#d8576b"
             ],
             [
              0.6666666666666666,
              "#ed7953"
             ],
             [
              0.7777777777777778,
              "#fb9f3a"
             ],
             [
              0.8888888888888888,
              "#fdca26"
             ],
             [
              1,
              "#f0f921"
             ]
            ],
            "type": "heatmapgl"
           }
          ],
          "histogram": [
           {
            "marker": {
             "pattern": {
              "fillmode": "overlay",
              "size": 10,
              "solidity": 0.2
             }
            },
            "type": "histogram"
           }
          ],
          "histogram2d": [
           {
            "colorbar": {
             "outlinewidth": 0,
             "ticks": ""
            },
            "colorscale": [
             [
              0,
              "#0d0887"
             ],
             [
              0.1111111111111111,
              "#46039f"
             ],
             [
              0.2222222222222222,
              "#7201a8"
             ],
             [
              0.3333333333333333,
              "#9c179e"
             ],
             [
              0.4444444444444444,
              "#bd3786"
             ],
             [
              0.5555555555555556,
              "#d8576b"
             ],
             [
              0.6666666666666666,
              "#ed7953"
             ],
             [
              0.7777777777777778,
              "#fb9f3a"
             ],
             [
              0.8888888888888888,
              "#fdca26"
             ],
             [
              1,
              "#f0f921"
             ]
            ],
            "type": "histogram2d"
           }
          ],
          "histogram2dcontour": [
           {
            "colorbar": {
             "outlinewidth": 0,
             "ticks": ""
            },
            "colorscale": [
             [
              0,
              "#0d0887"
             ],
             [
              0.1111111111111111,
              "#46039f"
             ],
             [
              0.2222222222222222,
              "#7201a8"
             ],
             [
              0.3333333333333333,
              "#9c179e"
             ],
             [
              0.4444444444444444,
              "#bd3786"
             ],
             [
              0.5555555555555556,
              "#d8576b"
             ],
             [
              0.6666666666666666,
              "#ed7953"
             ],
             [
              0.7777777777777778,
              "#fb9f3a"
             ],
             [
              0.8888888888888888,
              "#fdca26"
             ],
             [
              1,
              "#f0f921"
             ]
            ],
            "type": "histogram2dcontour"
           }
          ],
          "mesh3d": [
           {
            "colorbar": {
             "outlinewidth": 0,
             "ticks": ""
            },
            "type": "mesh3d"
           }
          ],
          "parcoords": [
           {
            "line": {
             "colorbar": {
              "outlinewidth": 0,
              "ticks": ""
             }
            },
            "type": "parcoords"
           }
          ],
          "pie": [
           {
            "automargin": true,
            "type": "pie"
           }
          ],
          "scatter": [
           {
            "marker": {
             "colorbar": {
              "outlinewidth": 0,
              "ticks": ""
             }
            },
            "type": "scatter"
           }
          ],
          "scatter3d": [
           {
            "line": {
             "colorbar": {
              "outlinewidth": 0,
              "ticks": ""
             }
            },
            "marker": {
             "colorbar": {
              "outlinewidth": 0,
              "ticks": ""
             }
            },
            "type": "scatter3d"
           }
          ],
          "scattercarpet": [
           {
            "marker": {
             "colorbar": {
              "outlinewidth": 0,
              "ticks": ""
             }
            },
            "type": "scattercarpet"
           }
          ],
          "scattergeo": [
           {
            "marker": {
             "colorbar": {
              "outlinewidth": 0,
              "ticks": ""
             }
            },
            "type": "scattergeo"
           }
          ],
          "scattergl": [
           {
            "marker": {
             "colorbar": {
              "outlinewidth": 0,
              "ticks": ""
             }
            },
            "type": "scattergl"
           }
          ],
          "scattermapbox": [
           {
            "marker": {
             "colorbar": {
              "outlinewidth": 0,
              "ticks": ""
             }
            },
            "type": "scattermapbox"
           }
          ],
          "scatterpolar": [
           {
            "marker": {
             "colorbar": {
              "outlinewidth": 0,
              "ticks": ""
             }
            },
            "type": "scatterpolar"
           }
          ],
          "scatterpolargl": [
           {
            "marker": {
             "colorbar": {
              "outlinewidth": 0,
              "ticks": ""
             }
            },
            "type": "scatterpolargl"
           }
          ],
          "scatterternary": [
           {
            "marker": {
             "colorbar": {
              "outlinewidth": 0,
              "ticks": ""
             }
            },
            "type": "scatterternary"
           }
          ],
          "surface": [
           {
            "colorbar": {
             "outlinewidth": 0,
             "ticks": ""
            },
            "colorscale": [
             [
              0,
              "#0d0887"
             ],
             [
              0.1111111111111111,
              "#46039f"
             ],
             [
              0.2222222222222222,
              "#7201a8"
             ],
             [
              0.3333333333333333,
              "#9c179e"
             ],
             [
              0.4444444444444444,
              "#bd3786"
             ],
             [
              0.5555555555555556,
              "#d8576b"
             ],
             [
              0.6666666666666666,
              "#ed7953"
             ],
             [
              0.7777777777777778,
              "#fb9f3a"
             ],
             [
              0.8888888888888888,
              "#fdca26"
             ],
             [
              1,
              "#f0f921"
             ]
            ],
            "type": "surface"
           }
          ],
          "table": [
           {
            "cells": {
             "fill": {
              "color": "#EBF0F8"
             },
             "line": {
              "color": "white"
             }
            },
            "header": {
             "fill": {
              "color": "#C8D4E3"
             },
             "line": {
              "color": "white"
             }
            },
            "type": "table"
           }
          ]
         },
         "layout": {
          "annotationdefaults": {
           "arrowcolor": "#2a3f5f",
           "arrowhead": 0,
           "arrowwidth": 1
          },
          "autotypenumbers": "strict",
          "coloraxis": {
           "colorbar": {
            "outlinewidth": 0,
            "ticks": ""
           }
          },
          "colorscale": {
           "diverging": [
            [
             0,
             "#8e0152"
            ],
            [
             0.1,
             "#c51b7d"
            ],
            [
             0.2,
             "#de77ae"
            ],
            [
             0.3,
             "#f1b6da"
            ],
            [
             0.4,
             "#fde0ef"
            ],
            [
             0.5,
             "#f7f7f7"
            ],
            [
             0.6,
             "#e6f5d0"
            ],
            [
             0.7,
             "#b8e186"
            ],
            [
             0.8,
             "#7fbc41"
            ],
            [
             0.9,
             "#4d9221"
            ],
            [
             1,
             "#276419"
            ]
           ],
           "sequential": [
            [
             0,
             "#0d0887"
            ],
            [
             0.1111111111111111,
             "#46039f"
            ],
            [
             0.2222222222222222,
             "#7201a8"
            ],
            [
             0.3333333333333333,
             "#9c179e"
            ],
            [
             0.4444444444444444,
             "#bd3786"
            ],
            [
             0.5555555555555556,
             "#d8576b"
            ],
            [
             0.6666666666666666,
             "#ed7953"
            ],
            [
             0.7777777777777778,
             "#fb9f3a"
            ],
            [
             0.8888888888888888,
             "#fdca26"
            ],
            [
             1,
             "#f0f921"
            ]
           ],
           "sequentialminus": [
            [
             0,
             "#0d0887"
            ],
            [
             0.1111111111111111,
             "#46039f"
            ],
            [
             0.2222222222222222,
             "#7201a8"
            ],
            [
             0.3333333333333333,
             "#9c179e"
            ],
            [
             0.4444444444444444,
             "#bd3786"
            ],
            [
             0.5555555555555556,
             "#d8576b"
            ],
            [
             0.6666666666666666,
             "#ed7953"
            ],
            [
             0.7777777777777778,
             "#fb9f3a"
            ],
            [
             0.8888888888888888,
             "#fdca26"
            ],
            [
             1,
             "#f0f921"
            ]
           ]
          },
          "colorway": [
           "#636efa",
           "#EF553B",
           "#00cc96",
           "#ab63fa",
           "#FFA15A",
           "#19d3f3",
           "#FF6692",
           "#B6E880",
           "#FF97FF",
           "#FECB52"
          ],
          "font": {
           "color": "#2a3f5f"
          },
          "geo": {
           "bgcolor": "white",
           "lakecolor": "white",
           "landcolor": "#E5ECF6",
           "showlakes": true,
           "showland": true,
           "subunitcolor": "white"
          },
          "hoverlabel": {
           "align": "left"
          },
          "hovermode": "closest",
          "mapbox": {
           "style": "light"
          },
          "paper_bgcolor": "white",
          "plot_bgcolor": "#E5ECF6",
          "polar": {
           "angularaxis": {
            "gridcolor": "white",
            "linecolor": "white",
            "ticks": ""
           },
           "bgcolor": "#E5ECF6",
           "radialaxis": {
            "gridcolor": "white",
            "linecolor": "white",
            "ticks": ""
           }
          },
          "scene": {
           "xaxis": {
            "backgroundcolor": "#E5ECF6",
            "gridcolor": "white",
            "gridwidth": 2,
            "linecolor": "white",
            "showbackground": true,
            "ticks": "",
            "zerolinecolor": "white"
           },
           "yaxis": {
            "backgroundcolor": "#E5ECF6",
            "gridcolor": "white",
            "gridwidth": 2,
            "linecolor": "white",
            "showbackground": true,
            "ticks": "",
            "zerolinecolor": "white"
           },
           "zaxis": {
            "backgroundcolor": "#E5ECF6",
            "gridcolor": "white",
            "gridwidth": 2,
            "linecolor": "white",
            "showbackground": true,
            "ticks": "",
            "zerolinecolor": "white"
           }
          },
          "shapedefaults": {
           "line": {
            "color": "#2a3f5f"
           }
          },
          "ternary": {
           "aaxis": {
            "gridcolor": "white",
            "linecolor": "white",
            "ticks": ""
           },
           "baxis": {
            "gridcolor": "white",
            "linecolor": "white",
            "ticks": ""
           },
           "bgcolor": "#E5ECF6",
           "caxis": {
            "gridcolor": "white",
            "linecolor": "white",
            "ticks": ""
           }
          },
          "title": {
           "x": 0.05
          },
          "xaxis": {
           "automargin": true,
           "gridcolor": "white",
           "linecolor": "white",
           "ticks": "",
           "title": {
            "standoff": 15
           },
           "zerolinecolor": "white",
           "zerolinewidth": 2
          },
          "yaxis": {
           "automargin": true,
           "gridcolor": "white",
           "linecolor": "white",
           "ticks": "",
           "title": {
            "standoff": 15
           },
           "zerolinecolor": "white",
           "zerolinewidth": 2
          }
         }
        },
        "title": {
         "text": "Learning Curves"
        },
        "xaxis": {
         "anchor": "y",
         "domain": [
          0,
          1
         ],
         "title": {
          "text": "Epochs"
         }
        },
        "xaxis2": {
         "anchor": "y2",
         "domain": [
          0,
          1
         ],
         "title": {
          "text": "Epochs"
         }
        },
        "xaxis3": {
         "anchor": "y3",
         "domain": [
          0,
          1
         ],
         "title": {
          "text": "Epochs"
         }
        },
        "yaxis": {
         "anchor": "x",
         "domain": [
          0.7777777777777778,
          1
         ],
         "title": {
          "text": "Loss"
         }
        },
        "yaxis2": {
         "anchor": "x2",
         "domain": [
          0.3888888888888889,
          0.6111111111111112
         ],
         "title": {
          "text": "Recall"
         }
        },
        "yaxis3": {
         "anchor": "x3",
         "domain": [
          0,
          0.22222222222222224
         ],
         "title": {
          "text": "AUC"
         }
        }
       }
      }
     },
     "metadata": {},
     "output_type": "display_data"
    }
   ],
   "source": [
    "plot_learning_curves(['train',history])"
   ]
  },
  {
   "cell_type": "code",
   "execution_count": 69,
   "metadata": {},
   "outputs": [
    {
     "data": {
      "application/vnd.plotly.v1+json": {
       "config": {
        "plotlyServerURL": "https://plot.ly"
       },
       "data": [
        {
         "name": "train",
         "type": "scatter",
         "x": [
          0,
          0.008547008547008548,
          0.008547008547008548,
          0.008547008547008548,
          0.01282051282051282,
          0.01282051282051282,
          0.01282051282051282,
          0.01282051282051282,
          0.01282051282051282,
          0.01282051282051282,
          0.021367521367521368,
          0.021367521367521368,
          0.021367521367521368,
          0.021367521367521368,
          0.021367521367521368,
          0.021367521367521368,
          0.021367521367521368,
          0.021367521367521368,
          0.021367521367521368,
          0.021367521367521368,
          0.021367521367521368,
          0.021367521367521368,
          0.02564102564102564,
          0.02564102564102564,
          0.02564102564102564,
          0.02564102564102564,
          0.02564102564102564,
          0.02564102564102564,
          0.02564102564102564,
          0.02564102564102564,
          0.02564102564102564,
          0.02564102564102564,
          0.02564102564102564,
          0.02564102564102564,
          0.02564102564102564,
          0.02564102564102564,
          0.029914529914529916,
          0.029914529914529916,
          0.03418803418803419,
          0.03418803418803419,
          0.038461538461538464,
          0.038461538461538464,
          0.038461538461538464,
          0.038461538461538464,
          0.038461538461538464,
          0.038461538461538464,
          0.04700854700854701,
          0.04700854700854701,
          0.05555555555555555,
          0.05555555555555555,
          0.05982905982905983,
          0.05982905982905983,
          0.0641025641025641,
          0.0641025641025641,
          0.07264957264957266,
          0.07264957264957266,
          0.07692307692307693,
          0.07692307692307693,
          0.07692307692307693,
          0.07692307692307693,
          0.0811965811965812,
          0.0811965811965812,
          0.08547008547008547,
          0.08547008547008547,
          0.08547008547008547,
          0.09401709401709402,
          0.09401709401709402,
          0.09829059829059829,
          0.09829059829059829,
          0.10256410256410256,
          0.10256410256410256,
          0.10683760683760683,
          0.10683760683760683,
          0.11965811965811966,
          0.11965811965811966,
          0.12393162393162394,
          0.12393162393162394,
          0.13247863247863248,
          0.13247863247863248,
          0.13675213675213677,
          0.13675213675213677,
          0.14102564102564102,
          0.14102564102564102,
          0.1581196581196581,
          0.1581196581196581,
          0.17094017094017094,
          0.17094017094017094,
          0.1752136752136752,
          0.1752136752136752,
          0.1794871794871795,
          0.1794871794871795,
          0.18803418803418803,
          0.18803418803418803,
          0.19230769230769232,
          0.19230769230769232,
          0.19658119658119658,
          0.19658119658119658,
          0.20085470085470086,
          0.20085470085470086,
          0.20512820512820512,
          0.20512820512820512,
          0.21794871794871795,
          0.21794871794871795,
          0.2222222222222222,
          0.23076923076923078,
          0.23076923076923078,
          0.23931623931623933,
          0.23931623931623933,
          0.24358974358974358,
          0.24358974358974358,
          0.2564102564102564,
          0.2564102564102564,
          0.2606837606837607,
          0.2606837606837607,
          0.2777777777777778,
          0.2777777777777778,
          0.2863247863247863,
          0.2863247863247863,
          0.29914529914529914,
          0.29914529914529914,
          0.31196581196581197,
          0.31196581196581197,
          0.3247863247863248,
          0.3247863247863248,
          0.3333333333333333,
          0.3333333333333333,
          0.3418803418803419,
          0.3418803418803419,
          0.34615384615384615,
          0.34615384615384615,
          0.3974358974358974,
          0.3974358974358974,
          0.41452991452991456,
          0.41452991452991456,
          0.43162393162393164,
          0.43162393162393164,
          0.4358974358974359,
          0.4358974358974359,
          0.45726495726495725,
          0.45726495726495725,
          0.5384615384615384,
          0.5384615384615384,
          0.5427350427350427,
          0.5427350427350427,
          0.5641025641025641,
          0.5641025641025641,
          0.6068376068376068,
          0.6068376068376068,
          0.7478632478632479,
          0.7478632478632479,
          0.7991452991452992,
          0.8076923076923077,
          1
         ],
         "y": [
          0,
          0.24615384615384617,
          0.25384615384615383,
          0.2641025641025641,
          0.2923076923076923,
          0.3,
          0.3282051282051282,
          0.33589743589743587,
          0.35384615384615387,
          0.3564102564102564,
          0.3717948717948718,
          0.37435897435897436,
          0.37948717948717947,
          0.3871794871794872,
          0.39487179487179486,
          0.3974358974358974,
          0.4076923076923077,
          0.4230769230769231,
          0.4282051282051282,
          0.43846153846153846,
          0.441025641025641,
          0.44871794871794873,
          0.4512820512820513,
          0.45897435897435895,
          0.47435897435897434,
          0.4846153846153846,
          0.4948717948717949,
          0.5,
          0.5051282051282051,
          0.5307692307692308,
          0.5769230769230769,
          0.5820512820512821,
          0.6,
          0.6051282051282051,
          0.6102564102564103,
          0.6153846153846154,
          0.6153846153846154,
          0.6333333333333333,
          0.6333333333333333,
          0.6410256410256411,
          0.6410256410256411,
          0.6487179487179487,
          0.6538461538461539,
          0.6692307692307692,
          0.6743589743589744,
          0.6923076923076923,
          0.6923076923076923,
          0.7256410256410256,
          0.7256410256410256,
          0.7512820512820513,
          0.7512820512820513,
          0.7589743589743589,
          0.7589743589743589,
          0.7615384615384615,
          0.764102564102564,
          0.7692307692307693,
          0.7692307692307693,
          0.7846153846153846,
          0.7897435897435897,
          0.7974358974358975,
          0.7974358974358975,
          0.8076923076923077,
          0.8076923076923077,
          0.8205128205128205,
          0.8256410256410256,
          0.8256410256410256,
          0.8307692307692308,
          0.8307692307692308,
          0.8487179487179487,
          0.8487179487179487,
          0.8512820512820513,
          0.8512820512820513,
          0.8564102564102564,
          0.8564102564102564,
          0.8641025641025641,
          0.8641025641025641,
          0.8692307692307693,
          0.8692307692307693,
          0.8769230769230769,
          0.8769230769230769,
          0.882051282051282,
          0.882051282051282,
          0.8846153846153846,
          0.8846153846153846,
          0.8871794871794871,
          0.8871794871794871,
          0.8923076923076924,
          0.8923076923076924,
          0.8948717948717949,
          0.8948717948717949,
          0.8974358974358975,
          0.8974358974358975,
          0.9,
          0.9,
          0.9051282051282051,
          0.9051282051282051,
          0.9076923076923077,
          0.9076923076923077,
          0.9102564102564102,
          0.9102564102564102,
          0.9205128205128205,
          0.9205128205128205,
          0.9230769230769231,
          0.9230769230769231,
          0.9230769230769231,
          0.9282051282051282,
          0.9282051282051282,
          0.9307692307692308,
          0.9307692307692308,
          0.9333333333333333,
          0.9333333333333333,
          0.9358974358974359,
          0.9358974358974359,
          0.9384615384615385,
          0.9384615384615385,
          0.941025641025641,
          0.941025641025641,
          0.9435897435897436,
          0.9435897435897436,
          0.9487179487179487,
          0.9487179487179487,
          0.9564102564102565,
          0.9564102564102565,
          0.958974358974359,
          0.958974358974359,
          0.9615384615384616,
          0.9615384615384616,
          0.9641025641025641,
          0.9641025641025641,
          0.9666666666666667,
          0.9666666666666667,
          0.9717948717948718,
          0.9717948717948718,
          0.9743589743589743,
          0.9743589743589743,
          0.9794871794871794,
          0.9794871794871794,
          0.982051282051282,
          0.982051282051282,
          0.9846153846153847,
          0.9846153846153847,
          0.9871794871794872,
          0.9871794871794872,
          0.9897435897435898,
          0.9897435897435898,
          0.9948717948717949,
          0.9948717948717949,
          0.9974358974358974,
          0.9974358974358974,
          1,
          1,
          1,
          1
         ]
        }
       ],
       "layout": {
        "template": {
         "data": {
          "bar": [
           {
            "error_x": {
             "color": "#2a3f5f"
            },
            "error_y": {
             "color": "#2a3f5f"
            },
            "marker": {
             "line": {
              "color": "#E5ECF6",
              "width": 0.5
             },
             "pattern": {
              "fillmode": "overlay",
              "size": 10,
              "solidity": 0.2
             }
            },
            "type": "bar"
           }
          ],
          "barpolar": [
           {
            "marker": {
             "line": {
              "color": "#E5ECF6",
              "width": 0.5
             },
             "pattern": {
              "fillmode": "overlay",
              "size": 10,
              "solidity": 0.2
             }
            },
            "type": "barpolar"
           }
          ],
          "carpet": [
           {
            "aaxis": {
             "endlinecolor": "#2a3f5f",
             "gridcolor": "white",
             "linecolor": "white",
             "minorgridcolor": "white",
             "startlinecolor": "#2a3f5f"
            },
            "baxis": {
             "endlinecolor": "#2a3f5f",
             "gridcolor": "white",
             "linecolor": "white",
             "minorgridcolor": "white",
             "startlinecolor": "#2a3f5f"
            },
            "type": "carpet"
           }
          ],
          "choropleth": [
           {
            "colorbar": {
             "outlinewidth": 0,
             "ticks": ""
            },
            "type": "choropleth"
           }
          ],
          "contour": [
           {
            "colorbar": {
             "outlinewidth": 0,
             "ticks": ""
            },
            "colorscale": [
             [
              0,
              "#0d0887"
             ],
             [
              0.1111111111111111,
              "#46039f"
             ],
             [
              0.2222222222222222,
              "#7201a8"
             ],
             [
              0.3333333333333333,
              "#9c179e"
             ],
             [
              0.4444444444444444,
              "#bd3786"
             ],
             [
              0.5555555555555556,
              "#d8576b"
             ],
             [
              0.6666666666666666,
              "#ed7953"
             ],
             [
              0.7777777777777778,
              "#fb9f3a"
             ],
             [
              0.8888888888888888,
              "#fdca26"
             ],
             [
              1,
              "#f0f921"
             ]
            ],
            "type": "contour"
           }
          ],
          "contourcarpet": [
           {
            "colorbar": {
             "outlinewidth": 0,
             "ticks": ""
            },
            "type": "contourcarpet"
           }
          ],
          "heatmap": [
           {
            "colorbar": {
             "outlinewidth": 0,
             "ticks": ""
            },
            "colorscale": [
             [
              0,
              "#0d0887"
             ],
             [
              0.1111111111111111,
              "#46039f"
             ],
             [
              0.2222222222222222,
              "#7201a8"
             ],
             [
              0.3333333333333333,
              "#9c179e"
             ],
             [
              0.4444444444444444,
              "#bd3786"
             ],
             [
              0.5555555555555556,
              "#d8576b"
             ],
             [
              0.6666666666666666,
              "#ed7953"
             ],
             [
              0.7777777777777778,
              "#fb9f3a"
             ],
             [
              0.8888888888888888,
              "#fdca26"
             ],
             [
              1,
              "#f0f921"
             ]
            ],
            "type": "heatmap"
           }
          ],
          "heatmapgl": [
           {
            "colorbar": {
             "outlinewidth": 0,
             "ticks": ""
            },
            "colorscale": [
             [
              0,
              "#0d0887"
             ],
             [
              0.1111111111111111,
              "#46039f"
             ],
             [
              0.2222222222222222,
              "#7201a8"
             ],
             [
              0.3333333333333333,
              "#9c179e"
             ],
             [
              0.4444444444444444,
              "#bd3786"
             ],
             [
              0.5555555555555556,
              "#d8576b"
             ],
             [
              0.6666666666666666,
              "#ed7953"
             ],
             [
              0.7777777777777778,
              "#fb9f3a"
             ],
             [
              0.8888888888888888,
              "#fdca26"
             ],
             [
              1,
              "#f0f921"
             ]
            ],
            "type": "heatmapgl"
           }
          ],
          "histogram": [
           {
            "marker": {
             "pattern": {
              "fillmode": "overlay",
              "size": 10,
              "solidity": 0.2
             }
            },
            "type": "histogram"
           }
          ],
          "histogram2d": [
           {
            "colorbar": {
             "outlinewidth": 0,
             "ticks": ""
            },
            "colorscale": [
             [
              0,
              "#0d0887"
             ],
             [
              0.1111111111111111,
              "#46039f"
             ],
             [
              0.2222222222222222,
              "#7201a8"
             ],
             [
              0.3333333333333333,
              "#9c179e"
             ],
             [
              0.4444444444444444,
              "#bd3786"
             ],
             [
              0.5555555555555556,
              "#d8576b"
             ],
             [
              0.6666666666666666,
              "#ed7953"
             ],
             [
              0.7777777777777778,
              "#fb9f3a"
             ],
             [
              0.8888888888888888,
              "#fdca26"
             ],
             [
              1,
              "#f0f921"
             ]
            ],
            "type": "histogram2d"
           }
          ],
          "histogram2dcontour": [
           {
            "colorbar": {
             "outlinewidth": 0,
             "ticks": ""
            },
            "colorscale": [
             [
              0,
              "#0d0887"
             ],
             [
              0.1111111111111111,
              "#46039f"
             ],
             [
              0.2222222222222222,
              "#7201a8"
             ],
             [
              0.3333333333333333,
              "#9c179e"
             ],
             [
              0.4444444444444444,
              "#bd3786"
             ],
             [
              0.5555555555555556,
              "#d8576b"
             ],
             [
              0.6666666666666666,
              "#ed7953"
             ],
             [
              0.7777777777777778,
              "#fb9f3a"
             ],
             [
              0.8888888888888888,
              "#fdca26"
             ],
             [
              1,
              "#f0f921"
             ]
            ],
            "type": "histogram2dcontour"
           }
          ],
          "mesh3d": [
           {
            "colorbar": {
             "outlinewidth": 0,
             "ticks": ""
            },
            "type": "mesh3d"
           }
          ],
          "parcoords": [
           {
            "line": {
             "colorbar": {
              "outlinewidth": 0,
              "ticks": ""
             }
            },
            "type": "parcoords"
           }
          ],
          "pie": [
           {
            "automargin": true,
            "type": "pie"
           }
          ],
          "scatter": [
           {
            "marker": {
             "colorbar": {
              "outlinewidth": 0,
              "ticks": ""
             }
            },
            "type": "scatter"
           }
          ],
          "scatter3d": [
           {
            "line": {
             "colorbar": {
              "outlinewidth": 0,
              "ticks": ""
             }
            },
            "marker": {
             "colorbar": {
              "outlinewidth": 0,
              "ticks": ""
             }
            },
            "type": "scatter3d"
           }
          ],
          "scattercarpet": [
           {
            "marker": {
             "colorbar": {
              "outlinewidth": 0,
              "ticks": ""
             }
            },
            "type": "scattercarpet"
           }
          ],
          "scattergeo": [
           {
            "marker": {
             "colorbar": {
              "outlinewidth": 0,
              "ticks": ""
             }
            },
            "type": "scattergeo"
           }
          ],
          "scattergl": [
           {
            "marker": {
             "colorbar": {
              "outlinewidth": 0,
              "ticks": ""
             }
            },
            "type": "scattergl"
           }
          ],
          "scattermapbox": [
           {
            "marker": {
             "colorbar": {
              "outlinewidth": 0,
              "ticks": ""
             }
            },
            "type": "scattermapbox"
           }
          ],
          "scatterpolar": [
           {
            "marker": {
             "colorbar": {
              "outlinewidth": 0,
              "ticks": ""
             }
            },
            "type": "scatterpolar"
           }
          ],
          "scatterpolargl": [
           {
            "marker": {
             "colorbar": {
              "outlinewidth": 0,
              "ticks": ""
             }
            },
            "type": "scatterpolargl"
           }
          ],
          "scatterternary": [
           {
            "marker": {
             "colorbar": {
              "outlinewidth": 0,
              "ticks": ""
             }
            },
            "type": "scatterternary"
           }
          ],
          "surface": [
           {
            "colorbar": {
             "outlinewidth": 0,
             "ticks": ""
            },
            "colorscale": [
             [
              0,
              "#0d0887"
             ],
             [
              0.1111111111111111,
              "#46039f"
             ],
             [
              0.2222222222222222,
              "#7201a8"
             ],
             [
              0.3333333333333333,
              "#9c179e"
             ],
             [
              0.4444444444444444,
              "#bd3786"
             ],
             [
              0.5555555555555556,
              "#d8576b"
             ],
             [
              0.6666666666666666,
              "#ed7953"
             ],
             [
              0.7777777777777778,
              "#fb9f3a"
             ],
             [
              0.8888888888888888,
              "#fdca26"
             ],
             [
              1,
              "#f0f921"
             ]
            ],
            "type": "surface"
           }
          ],
          "table": [
           {
            "cells": {
             "fill": {
              "color": "#EBF0F8"
             },
             "line": {
              "color": "white"
             }
            },
            "header": {
             "fill": {
              "color": "#C8D4E3"
             },
             "line": {
              "color": "white"
             }
            },
            "type": "table"
           }
          ]
         },
         "layout": {
          "annotationdefaults": {
           "arrowcolor": "#2a3f5f",
           "arrowhead": 0,
           "arrowwidth": 1
          },
          "autotypenumbers": "strict",
          "coloraxis": {
           "colorbar": {
            "outlinewidth": 0,
            "ticks": ""
           }
          },
          "colorscale": {
           "diverging": [
            [
             0,
             "#8e0152"
            ],
            [
             0.1,
             "#c51b7d"
            ],
            [
             0.2,
             "#de77ae"
            ],
            [
             0.3,
             "#f1b6da"
            ],
            [
             0.4,
             "#fde0ef"
            ],
            [
             0.5,
             "#f7f7f7"
            ],
            [
             0.6,
             "#e6f5d0"
            ],
            [
             0.7,
             "#b8e186"
            ],
            [
             0.8,
             "#7fbc41"
            ],
            [
             0.9,
             "#4d9221"
            ],
            [
             1,
             "#276419"
            ]
           ],
           "sequential": [
            [
             0,
             "#0d0887"
            ],
            [
             0.1111111111111111,
             "#46039f"
            ],
            [
             0.2222222222222222,
             "#7201a8"
            ],
            [
             0.3333333333333333,
             "#9c179e"
            ],
            [
             0.4444444444444444,
             "#bd3786"
            ],
            [
             0.5555555555555556,
             "#d8576b"
            ],
            [
             0.6666666666666666,
             "#ed7953"
            ],
            [
             0.7777777777777778,
             "#fb9f3a"
            ],
            [
             0.8888888888888888,
             "#fdca26"
            ],
            [
             1,
             "#f0f921"
            ]
           ],
           "sequentialminus": [
            [
             0,
             "#0d0887"
            ],
            [
             0.1111111111111111,
             "#46039f"
            ],
            [
             0.2222222222222222,
             "#7201a8"
            ],
            [
             0.3333333333333333,
             "#9c179e"
            ],
            [
             0.4444444444444444,
             "#bd3786"
            ],
            [
             0.5555555555555556,
             "#d8576b"
            ],
            [
             0.6666666666666666,
             "#ed7953"
            ],
            [
             0.7777777777777778,
             "#fb9f3a"
            ],
            [
             0.8888888888888888,
             "#fdca26"
            ],
            [
             1,
             "#f0f921"
            ]
           ]
          },
          "colorway": [
           "#636efa",
           "#EF553B",
           "#00cc96",
           "#ab63fa",
           "#FFA15A",
           "#19d3f3",
           "#FF6692",
           "#B6E880",
           "#FF97FF",
           "#FECB52"
          ],
          "font": {
           "color": "#2a3f5f"
          },
          "geo": {
           "bgcolor": "white",
           "lakecolor": "white",
           "landcolor": "#E5ECF6",
           "showlakes": true,
           "showland": true,
           "subunitcolor": "white"
          },
          "hoverlabel": {
           "align": "left"
          },
          "hovermode": "closest",
          "mapbox": {
           "style": "light"
          },
          "paper_bgcolor": "white",
          "plot_bgcolor": "#E5ECF6",
          "polar": {
           "angularaxis": {
            "gridcolor": "white",
            "linecolor": "white",
            "ticks": ""
           },
           "bgcolor": "#E5ECF6",
           "radialaxis": {
            "gridcolor": "white",
            "linecolor": "white",
            "ticks": ""
           }
          },
          "scene": {
           "xaxis": {
            "backgroundcolor": "#E5ECF6",
            "gridcolor": "white",
            "gridwidth": 2,
            "linecolor": "white",
            "showbackground": true,
            "ticks": "",
            "zerolinecolor": "white"
           },
           "yaxis": {
            "backgroundcolor": "#E5ECF6",
            "gridcolor": "white",
            "gridwidth": 2,
            "linecolor": "white",
            "showbackground": true,
            "ticks": "",
            "zerolinecolor": "white"
           },
           "zaxis": {
            "backgroundcolor": "#E5ECF6",
            "gridcolor": "white",
            "gridwidth": 2,
            "linecolor": "white",
            "showbackground": true,
            "ticks": "",
            "zerolinecolor": "white"
           }
          },
          "shapedefaults": {
           "line": {
            "color": "#2a3f5f"
           }
          },
          "ternary": {
           "aaxis": {
            "gridcolor": "white",
            "linecolor": "white",
            "ticks": ""
           },
           "baxis": {
            "gridcolor": "white",
            "linecolor": "white",
            "ticks": ""
           },
           "bgcolor": "#E5ECF6",
           "caxis": {
            "gridcolor": "white",
            "linecolor": "white",
            "ticks": ""
           }
          },
          "title": {
           "x": 0.05
          },
          "xaxis": {
           "automargin": true,
           "gridcolor": "white",
           "linecolor": "white",
           "ticks": "",
           "title": {
            "standoff": 15
           },
           "zerolinecolor": "white",
           "zerolinewidth": 2
          },
          "yaxis": {
           "automargin": true,
           "gridcolor": "white",
           "linecolor": "white",
           "ticks": "",
           "title": {
            "standoff": 15
           },
           "zerolinecolor": "white",
           "zerolinewidth": 2
          }
         }
        },
        "title": {
         "text": "ROC Curve"
        },
        "xaxis": {
         "title": {
          "text": "FPR"
         }
        },
        "yaxis": {
         "title": {
          "text": "TPR"
         }
        }
       }
      }
     },
     "metadata": {},
     "output_type": "display_data"
    }
   ],
   "source": [
    "pred = model.predict(test_img)\n",
    "y_true = [0 if x == 'Normal' else 1 for x in final_test_df['Label']]\n",
    "\n",
    "plot_roc_curve(['train', y_true, pred])"
   ]
  },
  {
   "cell_type": "code",
   "execution_count": 70,
   "metadata": {},
   "outputs": [],
   "source": [
    "model.save('covid.h5')"
   ]
  }
 ],
 "metadata": {
  "interpreter": {
   "hash": "e94dfda3a2ce53f547cc10100d5c97f5d673f6ae183c3cbb5b31c8281f6dfcce"
  },
  "kernelspec": {
   "display_name": "Python 3.8.8 64-bit ('base': conda)",
   "language": "python",
   "name": "python3"
  },
  "language_info": {
   "codemirror_mode": {
    "name": "ipython",
    "version": 3
   },
   "file_extension": ".py",
   "mimetype": "text/x-python",
   "name": "python",
   "nbconvert_exporter": "python",
   "pygments_lexer": "ipython3",
   "version": "3.9.7"
  },
  "orig_nbformat": 4
 },
 "nbformat": 4,
 "nbformat_minor": 2
}
