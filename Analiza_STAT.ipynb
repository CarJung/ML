{
  "nbformat": 4,
  "nbformat_minor": 0,
  "metadata": {
    "colab": {
      "name": "Analiza_STAT.ipynb",
      "provenance": [],
      "authorship_tag": "ABX9TyPUIAwCEEzJ4ewZHiofSpxU",
      "include_colab_link": true
    },
    "kernelspec": {
      "name": "python3",
      "display_name": "Python 3"
    },
    "language_info": {
      "name": "python"
    }
  },
  "cells": [
    {
      "cell_type": "markdown",
      "metadata": {
        "id": "view-in-github",
        "colab_type": "text"
      },
      "source": [
        "<a href=\"https://colab.research.google.com/github/CarJung/ML/blob/main/Analiza_STAT.ipynb\" target=\"_parent\"><img src=\"https://colab.research.google.com/assets/colab-badge.svg\" alt=\"Open In Colab\"/></a>"
      ]
    },
    {
      "cell_type": "markdown",
      "metadata": {
        "id": "ci9wpNBKPROj"
      },
      "source": [
        "# Nowa sekcja"
      ]
    },
    {
      "cell_type": "code",
      "metadata": {
        "colab": {
          "base_uri": "https://localhost:8080/"
        },
        "id": "cw4mJxssPqxt",
        "outputId": "9563165e-6303-4a93-9554-a7f945f1549b"
      },
      "source": [
        "from google.colab import drive\n",
        "drive.mount('/content/drive')"
      ],
      "execution_count": 1,
      "outputs": [
        {
          "output_type": "stream",
          "name": "stdout",
          "text": [
            "Drive already mounted at /content/drive; to attempt to forcibly remount, call drive.mount(\"/content/drive\", force_remount=True).\n"
          ]
        }
      ]
    },
    {
      "cell_type": "code",
      "metadata": {
        "id": "n_O2x_1vP8xd"
      },
      "source": [
        "import pandas as pd\n",
        "import numpy as np\n",
        "import matplotlib.pyplot as plt\n",
        "import seaborn as sns\n",
        "import pingouin as pg\n",
        "import os, os.path as op"
      ],
      "execution_count": 2,
      "outputs": []
    },
    {
      "cell_type": "code",
      "metadata": {
        "id": "4pixp57pP4Xu"
      },
      "source": [
        "d  =pd.read_csv('/tn3.csv')"
      ],
      "execution_count": 3,
      "outputs": []
    },
    {
      "cell_type": "markdown",
      "metadata": {
        "id": "gtDAf4WUR09P"
      },
      "source": [
        "# Czy znajomosc jezykow ger wplywa na zdolnosci jezykowe"
      ]
    },
    {
      "cell_type": "code",
      "metadata": {
        "colab": {
          "base_uri": "https://localhost:8080/",
          "height": 359
        },
        "id": "KZKUYJZ9R_16",
        "outputId": "f92ab50a-6637-4d63-abdb-9d5f4a44f301"
      },
      "source": [
        "d.head(10)"
      ],
      "execution_count": 4,
      "outputs": [
        {
          "output_type": "execute_result",
          "data": {
            "text/html": [
              "<div>\n",
              "<style scoped>\n",
              "    .dataframe tbody tr th:only-of-type {\n",
              "        vertical-align: middle;\n",
              "    }\n",
              "\n",
              "    .dataframe tbody tr th {\n",
              "        vertical-align: top;\n",
              "    }\n",
              "\n",
              "    .dataframe thead th {\n",
              "        text-align: right;\n",
              "    }\n",
              "</style>\n",
              "<table border=\"1\" class=\"dataframe\">\n",
              "  <thead>\n",
              "    <tr style=\"text-align: right;\">\n",
              "      <th></th>\n",
              "      <th>Unnamed: 0</th>\n",
              "      <th>nr</th>\n",
              "      <th>lang</th>\n",
              "      <th>zdolnosc</th>\n",
              "    </tr>\n",
              "  </thead>\n",
              "  <tbody>\n",
              "    <tr>\n",
              "      <th>0</th>\n",
              "      <td>0</td>\n",
              "      <td>1.0</td>\n",
              "      <td>Nie</td>\n",
              "      <td>57.0</td>\n",
              "    </tr>\n",
              "    <tr>\n",
              "      <th>1</th>\n",
              "      <td>1</td>\n",
              "      <td>2.0</td>\n",
              "      <td>Nie</td>\n",
              "      <td>11.0</td>\n",
              "    </tr>\n",
              "    <tr>\n",
              "      <th>2</th>\n",
              "      <td>2</td>\n",
              "      <td>3.0</td>\n",
              "      <td>Nie</td>\n",
              "      <td>24.0</td>\n",
              "    </tr>\n",
              "    <tr>\n",
              "      <th>3</th>\n",
              "      <td>3</td>\n",
              "      <td>4.0</td>\n",
              "      <td>Nie</td>\n",
              "      <td>27.0</td>\n",
              "    </tr>\n",
              "    <tr>\n",
              "      <th>4</th>\n",
              "      <td>4</td>\n",
              "      <td>5.0</td>\n",
              "      <td>Nie</td>\n",
              "      <td>53.0</td>\n",
              "    </tr>\n",
              "    <tr>\n",
              "      <th>5</th>\n",
              "      <td>5</td>\n",
              "      <td>6.0</td>\n",
              "      <td>Nie</td>\n",
              "      <td>46.0</td>\n",
              "    </tr>\n",
              "    <tr>\n",
              "      <th>6</th>\n",
              "      <td>6</td>\n",
              "      <td>7.0</td>\n",
              "      <td>Nie</td>\n",
              "      <td>1.0</td>\n",
              "    </tr>\n",
              "    <tr>\n",
              "      <th>7</th>\n",
              "      <td>7</td>\n",
              "      <td>8.0</td>\n",
              "      <td>Nie</td>\n",
              "      <td>31.0</td>\n",
              "    </tr>\n",
              "    <tr>\n",
              "      <th>8</th>\n",
              "      <td>8</td>\n",
              "      <td>9.0</td>\n",
              "      <td>Nie</td>\n",
              "      <td>67.0</td>\n",
              "    </tr>\n",
              "    <tr>\n",
              "      <th>9</th>\n",
              "      <td>9</td>\n",
              "      <td>10.0</td>\n",
              "      <td>Nie</td>\n",
              "      <td>45.0</td>\n",
              "    </tr>\n",
              "  </tbody>\n",
              "</table>\n",
              "</div>"
            ],
            "text/plain": [
              "   Unnamed: 0    nr lang  zdolnosc\n",
              "0           0   1.0  Nie      57.0\n",
              "1           1   2.0  Nie      11.0\n",
              "2           2   3.0  Nie      24.0\n",
              "3           3   4.0  Nie      27.0\n",
              "4           4   5.0  Nie      53.0\n",
              "5           5   6.0  Nie      46.0\n",
              "6           6   7.0  Nie       1.0\n",
              "7           7   8.0  Nie      31.0\n",
              "8           8   9.0  Nie      67.0\n",
              "9           9  10.0  Nie      45.0"
            ]
          },
          "metadata": {},
          "execution_count": 4
        }
      ]
    },
    {
      "cell_type": "code",
      "metadata": {
        "colab": {
          "base_uri": "https://localhost:8080/",
          "height": 297
        },
        "id": "tULMhoVXUzs3",
        "outputId": "8e0e3d68-448b-44db-bd60-1c700adfb215"
      },
      "source": [
        "d.describe()"
      ],
      "execution_count": 10,
      "outputs": [
        {
          "output_type": "execute_result",
          "data": {
            "text/html": [
              "<div>\n",
              "<style scoped>\n",
              "    .dataframe tbody tr th:only-of-type {\n",
              "        vertical-align: middle;\n",
              "    }\n",
              "\n",
              "    .dataframe tbody tr th {\n",
              "        vertical-align: top;\n",
              "    }\n",
              "\n",
              "    .dataframe thead th {\n",
              "        text-align: right;\n",
              "    }\n",
              "</style>\n",
              "<table border=\"1\" class=\"dataframe\">\n",
              "  <thead>\n",
              "    <tr style=\"text-align: right;\">\n",
              "      <th></th>\n",
              "      <th>Unnamed: 0</th>\n",
              "      <th>nr</th>\n",
              "      <th>zdolnosc</th>\n",
              "    </tr>\n",
              "  </thead>\n",
              "  <tbody>\n",
              "    <tr>\n",
              "      <th>count</th>\n",
              "      <td>65.00000</td>\n",
              "      <td>65.00000</td>\n",
              "      <td>65.000000</td>\n",
              "    </tr>\n",
              "    <tr>\n",
              "      <th>mean</th>\n",
              "      <td>32.00000</td>\n",
              "      <td>33.00000</td>\n",
              "      <td>41.107692</td>\n",
              "    </tr>\n",
              "    <tr>\n",
              "      <th>std</th>\n",
              "      <td>18.90767</td>\n",
              "      <td>18.90767</td>\n",
              "      <td>18.224402</td>\n",
              "    </tr>\n",
              "    <tr>\n",
              "      <th>min</th>\n",
              "      <td>0.00000</td>\n",
              "      <td>1.00000</td>\n",
              "      <td>1.000000</td>\n",
              "    </tr>\n",
              "    <tr>\n",
              "      <th>25%</th>\n",
              "      <td>16.00000</td>\n",
              "      <td>17.00000</td>\n",
              "      <td>30.000000</td>\n",
              "    </tr>\n",
              "    <tr>\n",
              "      <th>50%</th>\n",
              "      <td>32.00000</td>\n",
              "      <td>33.00000</td>\n",
              "      <td>39.000000</td>\n",
              "    </tr>\n",
              "    <tr>\n",
              "      <th>75%</th>\n",
              "      <td>48.00000</td>\n",
              "      <td>49.00000</td>\n",
              "      <td>53.000000</td>\n",
              "    </tr>\n",
              "    <tr>\n",
              "      <th>max</th>\n",
              "      <td>64.00000</td>\n",
              "      <td>65.00000</td>\n",
              "      <td>87.000000</td>\n",
              "    </tr>\n",
              "  </tbody>\n",
              "</table>\n",
              "</div>"
            ],
            "text/plain": [
              "       Unnamed: 0        nr   zdolnosc\n",
              "count    65.00000  65.00000  65.000000\n",
              "mean     32.00000  33.00000  41.107692\n",
              "std      18.90767  18.90767  18.224402\n",
              "min       0.00000   1.00000   1.000000\n",
              "25%      16.00000  17.00000  30.000000\n",
              "50%      32.00000  33.00000  39.000000\n",
              "75%      48.00000  49.00000  53.000000\n",
              "max      64.00000  65.00000  87.000000"
            ]
          },
          "metadata": {},
          "execution_count": 10
        }
      ]
    },
    {
      "cell_type": "code",
      "metadata": {
        "id": "-1TlwfD-U4ns"
      },
      "source": [
        "stats = d.groupby(['lang']).zdolnosc.agg([np.mean, np.median, np.std ]).round(2).reset_index()"
      ],
      "execution_count": 15,
      "outputs": []
    },
    {
      "cell_type": "code",
      "metadata": {
        "colab": {
          "base_uri": "https://localhost:8080/",
          "height": 111
        },
        "id": "hM7o8fRuVV7u",
        "outputId": "fec19563-e8e2-4347-9dc6-ba48cc2c5b9a"
      },
      "source": [
        "stats"
      ],
      "execution_count": 16,
      "outputs": [
        {
          "output_type": "execute_result",
          "data": {
            "text/html": [
              "<div>\n",
              "<style scoped>\n",
              "    .dataframe tbody tr th:only-of-type {\n",
              "        vertical-align: middle;\n",
              "    }\n",
              "\n",
              "    .dataframe tbody tr th {\n",
              "        vertical-align: top;\n",
              "    }\n",
              "\n",
              "    .dataframe thead th {\n",
              "        text-align: right;\n",
              "    }\n",
              "</style>\n",
              "<table border=\"1\" class=\"dataframe\">\n",
              "  <thead>\n",
              "    <tr style=\"text-align: right;\">\n",
              "      <th></th>\n",
              "      <th>lang</th>\n",
              "      <th>mean</th>\n",
              "      <th>median</th>\n",
              "      <th>std</th>\n",
              "    </tr>\n",
              "  </thead>\n",
              "  <tbody>\n",
              "    <tr>\n",
              "      <th>0</th>\n",
              "      <td>Nie</td>\n",
              "      <td>36.55</td>\n",
              "      <td>33.0</td>\n",
              "      <td>18.12</td>\n",
              "    </tr>\n",
              "    <tr>\n",
              "      <th>1</th>\n",
              "      <td>Tak</td>\n",
              "      <td>44.78</td>\n",
              "      <td>44.0</td>\n",
              "      <td>17.71</td>\n",
              "    </tr>\n",
              "  </tbody>\n",
              "</table>\n",
              "</div>"
            ],
            "text/plain": [
              "  lang   mean  median    std\n",
              "0  Nie  36.55    33.0  18.12\n",
              "1  Tak  44.78    44.0  17.71"
            ]
          },
          "metadata": {},
          "execution_count": 16
        }
      ]
    },
    {
      "cell_type": "code",
      "metadata": {
        "id": "Tik_Az8TTY3w"
      },
      "source": [
        "zna = d[d['lang'] == 'Tak']['zdolnosc']\n",
        "nzna = d[d['lang'] == 'Nie']['zdolnosc']"
      ],
      "execution_count": 5,
      "outputs": []
    },
    {
      "cell_type": "code",
      "metadata": {
        "colab": {
          "base_uri": "https://localhost:8080/"
        },
        "id": "2Z8fxwJQUBvP",
        "outputId": "1604e7fd-9af9-49cf-d352-e052521ef8e7"
      },
      "source": [
        "zna.head()"
      ],
      "execution_count": 6,
      "outputs": [
        {
          "output_type": "execute_result",
          "data": {
            "text/plain": [
              "29    62.0\n",
              "30    33.0\n",
              "31    66.0\n",
              "32    12.0\n",
              "33    21.0\n",
              "Name: zdolnosc, dtype: float64"
            ]
          },
          "metadata": {},
          "execution_count": 6
        }
      ]
    },
    {
      "cell_type": "code",
      "metadata": {
        "id": "MZP0a6jaUeBR"
      },
      "source": [
        ""
      ],
      "execution_count": null,
      "outputs": []
    },
    {
      "cell_type": "code",
      "metadata": {
        "colab": {
          "base_uri": "https://localhost:8080/"
        },
        "id": "kG48jSSBUE0b",
        "outputId": "de3f150f-f976-4cd1-9675-df0dd98528fc"
      },
      "source": [
        "nzna.head()"
      ],
      "execution_count": 7,
      "outputs": [
        {
          "output_type": "execute_result",
          "data": {
            "text/plain": [
              "0    57.0\n",
              "1    11.0\n",
              "2    24.0\n",
              "3    27.0\n",
              "4    53.0\n",
              "Name: zdolnosc, dtype: float64"
            ]
          },
          "metadata": {},
          "execution_count": 7
        }
      ]
    },
    {
      "cell_type": "code",
      "metadata": {
        "colab": {
          "base_uri": "https://localhost:8080/",
          "height": 80
        },
        "id": "Y08t1DvDRzpz",
        "outputId": "45680d79-3d7b-4002-889a-a3ca32b0ec2d"
      },
      "source": [
        "pg.ttest(zna, nzna)"
      ],
      "execution_count": 8,
      "outputs": [
        {
          "output_type": "execute_result",
          "data": {
            "text/html": [
              "<div>\n",
              "<style scoped>\n",
              "    .dataframe tbody tr th:only-of-type {\n",
              "        vertical-align: middle;\n",
              "    }\n",
              "\n",
              "    .dataframe tbody tr th {\n",
              "        vertical-align: top;\n",
              "    }\n",
              "\n",
              "    .dataframe thead th {\n",
              "        text-align: right;\n",
              "    }\n",
              "</style>\n",
              "<table border=\"1\" class=\"dataframe\">\n",
              "  <thead>\n",
              "    <tr style=\"text-align: right;\">\n",
              "      <th></th>\n",
              "      <th>T</th>\n",
              "      <th>dof</th>\n",
              "      <th>alternative</th>\n",
              "      <th>p-val</th>\n",
              "      <th>CI95%</th>\n",
              "      <th>cohen-d</th>\n",
              "      <th>BF10</th>\n",
              "      <th>power</th>\n",
              "    </tr>\n",
              "  </thead>\n",
              "  <tbody>\n",
              "    <tr>\n",
              "      <th>T-test</th>\n",
              "      <td>1.837889</td>\n",
              "      <td>59.48956</td>\n",
              "      <td>two-sided</td>\n",
              "      <td>0.071074</td>\n",
              "      <td>[-0.73, 17.18]</td>\n",
              "      <td>0.459743</td>\n",
              "      <td>1.049</td>\n",
              "      <td>0.442214</td>\n",
              "    </tr>\n",
              "  </tbody>\n",
              "</table>\n",
              "</div>"
            ],
            "text/plain": [
              "               T       dof alternative  ...   cohen-d   BF10     power\n",
              "T-test  1.837889  59.48956   two-sided  ...  0.459743  1.049  0.442214\n",
              "\n",
              "[1 rows x 8 columns]"
            ]
          },
          "metadata": {},
          "execution_count": 8
        }
      ]
    },
    {
      "cell_type": "markdown",
      "metadata": {
        "id": "x0b4WLftUkE5"
      },
      "source": [
        "p-val > 0.05 ---> wynik nie istotny statystycznie"
      ]
    },
    {
      "cell_type": "code",
      "metadata": {
        "colab": {
          "base_uri": "https://localhost:8080/",
          "height": 391
        },
        "id": "ywmEKeqfVfax",
        "outputId": "567a83c3-23d8-48f0-dad0-bdea1f9d0a28"
      },
      "source": [
        "fig, ax = plt.subplots(figsize = (8,6))\n",
        "\n",
        "# wykres najwyższych wartości\n",
        "plt.bar(d['lang'], d['zdolnosc'])"
      ],
      "execution_count": 18,
      "outputs": [
        {
          "output_type": "execute_result",
          "data": {
            "text/plain": [
              "<BarContainer object of 65 artists>"
            ]
          },
          "metadata": {},
          "execution_count": 18
        },
        {
          "output_type": "display_data",
          "data": {
            "image/png": "[encoded data removed]",
            "text/plain": [
              "<Figure size 576x432 with 1 Axes>"
            ]
          },
          "metadata": {
            "needs_background": "light"
          }
        }
      ]
    },
    {
      "cell_type": "code",
      "metadata": {
        "colab": {
          "base_uri": "https://localhost:8080/",
          "height": 391
        },
        "id": "x3lRBHQaWXQk",
        "outputId": "f0c0e7e4-0370-4a3b-82d5-4497e69cdd32"
      },
      "source": [
        "fig, ax = plt.subplots(figsize = (8,6))\n",
        "\n",
        "#wykres średnich wartości\n",
        "plt.bar(stats['lang'], stats['mean'])"
      ],
      "execution_count": 20,
      "outputs": [
        {
          "output_type": "execute_result",
          "data": {
            "text/plain": [
              "<BarContainer object of 2 artists>"
            ]
          },
          "metadata": {},
          "execution_count": 20
        },
        {
          "output_type": "display_data",
          "data": {
            "image/png": "[encoded data removed]",
            "text/plain": [
              "<Figure size 576x432 with 1 Axes>"
            ]
          },
          "metadata": {
            "needs_background": "light"
          }
        }
      ]
    },
    {
      "cell_type": "code",
      "metadata": {
        "colab": {
          "base_uri": "https://localhost:8080/",
          "height": 76
        },
        "id": "zzSghCjbW4n9",
        "outputId": "43b70c54-0812-4b76-f9f6-6fe39fc8a59c"
      },
      "source": [
        "colors = sns.color_palette('colorblind')\n",
        "\n",
        "sns.color_palette(colors)"
      ],
      "execution_count": 32,
      "outputs": [
        {
          "output_type": "execute_result",
          "data": {
            "text/html": [
              "<svg  width=\"550\" height=\"55\"><rect x=\"0\" y=\"0\" width=\"55\" height=\"55\" style=\"fill:#0173b2;stroke-width:2;stroke:rgb(255,255,255)\"/><rect x=\"55\" y=\"0\" width=\"55\" height=\"55\" style=\"fill:#de8f05;stroke-width:2;stroke:rgb(255,255,255)\"/><rect x=\"110\" y=\"0\" width=\"55\" height=\"55\" style=\"fill:#029e73;stroke-width:2;stroke:rgb(255,255,255)\"/><rect x=\"165\" y=\"0\" width=\"55\" height=\"55\" style=\"fill:#d55e00;stroke-width:2;stroke:rgb(255,255,255)\"/><rect x=\"220\" y=\"0\" width=\"55\" height=\"55\" style=\"fill:#cc78bc;stroke-width:2;stroke:rgb(255,255,255)\"/><rect x=\"275\" y=\"0\" width=\"55\" height=\"55\" style=\"fill:#ca9161;stroke-width:2;stroke:rgb(255,255,255)\"/><rect x=\"330\" y=\"0\" width=\"55\" height=\"55\" style=\"fill:#fbafe4;stroke-width:2;stroke:rgb(255,255,255)\"/><rect x=\"385\" y=\"0\" width=\"55\" height=\"55\" style=\"fill:#949494;stroke-width:2;stroke:rgb(255,255,255)\"/><rect x=\"440\" y=\"0\" width=\"55\" height=\"55\" style=\"fill:#ece133;stroke-width:2;stroke:rgb(255,255,255)\"/><rect x=\"495\" y=\"0\" width=\"55\" height=\"55\" style=\"fill:#56b4e9;stroke-width:2;stroke:rgb(255,255,255)\"/></svg>"
            ],
            "text/plain": [
              "[(0.00392156862745098, 0.45098039215686275, 0.6980392156862745),\n",
              " (0.8705882352941177, 0.5607843137254902, 0.0196078431372549),\n",
              " (0.00784313725490196, 0.6196078431372549, 0.45098039215686275),\n",
              " (0.8352941176470589, 0.3686274509803922, 0.0),\n",
              " (0.8, 0.47058823529411764, 0.7372549019607844),\n",
              " (0.792156862745098, 0.5686274509803921, 0.3803921568627451),\n",
              " (0.984313725490196, 0.6862745098039216, 0.8941176470588236),\n",
              " (0.5803921568627451, 0.5803921568627451, 0.5803921568627451),\n",
              " (0.9254901960784314, 0.8823529411764706, 0.2),\n",
              " (0.33725490196078434, 0.7058823529411765, 0.9137254901960784)]"
            ]
          },
          "metadata": {},
          "execution_count": 32
        }
      ]
    },
    {
      "cell_type": "code",
      "metadata": {
        "colab": {
          "base_uri": "https://localhost:8080/",
          "height": 401
        },
        "id": "YKyWK_jUXHqx",
        "outputId": "c5f6fc21-c310-460b-b114-985b2b078530"
      },
      "source": [
        "font = {'family': 'Helvetica Neue', \n",
        "        'size': 17}\n",
        "\n",
        "\n",
        "fig, ax = plt.subplots(figsize = (8,6))\n",
        "\n",
        "sns.barplot(x ='lang' , y='zdolnosc' , data = d , palette = colors, capsize = 0.2)\n",
        "\n",
        "ax.set_xlabel('Znajmomosc jezyków germanskich', fontdict=font);\n",
        "ax.set_ylabel('Zdolnosci jezykowe', fontdict=font);\n",
        "\n",
        "ax.set_xticklabels(['Zna przynajmniej jeden język', 'Nie zna zadnego'])\n",
        "\n",
        "ax.set_ylim(0,100);\n",
        "\n",
        "from matplotlib import ticker\n",
        "ax.yaxis.set_major_formatter(ticker.PercentFormatter(xmax =100 ))\n",
        "\n",
        "ax.grid(which = 'major', axis= 'y', ls = '--')\n",
        "\n",
        "ax.yaxis.set_minor_locator(ticker.FixedLocator([25, 50 , 75]))\n",
        "ax.grid(which='minor', axis='y', ls='-.')\n",
        "\n",
        "if not op.exists('plots'):\n",
        "  os.mkdir('plots')\n",
        "\n",
        "plt.savefig(op.join('plots', 'plot1.png'), dp1 = 500, transparent = False)\n",
        "\n"
      ],
      "execution_count": 61,
      "outputs": [
        {
          "output_type": "display_data",
          "data": {
            "image/png": "[encoded data removed]",
            "text/plain": [
              "<Figure size 576x432 with 1 Axes>"
            ]
          },
          "metadata": {
            "needs_background": "light"
          }
        }
      ]
    }
  ]
}