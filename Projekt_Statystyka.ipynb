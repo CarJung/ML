{
 "cells": [
  {
   "cell_type": "markdown",
   "metadata": {},
   "source": [
    "# Analiza zbioru danych<br>\n",
    "https://www.kaggle.com/impapan/student-performance-data-set"
   ]
  },
  {
   "cell_type": "markdown",
   "metadata": {},
   "source": [
    "## Import pakietów"
   ]
  },
  {
   "cell_type": "code",
   "execution_count": 1,
   "metadata": {},
   "outputs": [],
   "source": [
    "import pandas as pd\n",
    "import numpy as np\n",
    "import pingouin as pg\n",
    "import os, os.path as op\n",
    "\n",
    "import matplotlib.pyplot as plt\n",
    "import seaborn as sns\n"
   ]
  },
  {
   "cell_type": "code",
   "execution_count": 2,
   "metadata": {},
   "outputs": [],
   "source": [
    "def plot_estimates(estimates=None, model=None, figsize=(12,8), boundaries=None, vline=True):\n",
    "\n",
    "    def get_estimates(model, long=True):\n",
    "        est = model.conf_int().rename(columns={0:\"LL\",1:\"UL\"})\n",
    "        est.insert(0,\"coef\", model.params)\n",
    "        est = est.reset_index().rename(columns={\"index\":\"variable\"})\n",
    "\n",
    "        return est\n",
    "    \n",
    "    \n",
    "    if estimates is None:\n",
    "        estimates = get_estimates(model)\n",
    "    \n",
    "    fig, ax = plt.subplots(figsize=figsize)\n",
    "\n",
    "    plt.errorbar(estimates['coef'], estimates.index, xerr=(estimates.UL - estimates.LL)/2, fmt='o', color='black',\n",
    "                 ecolor=estimates.coef.apply(lambda c: '#E41A1C' if c < 0 else '#029E73'), elinewidth=3, capsize=0)\n",
    "\n",
    "    plt.yticks(ticks=estimates.index,labels=estimates['variable'])\n",
    "\n",
    "    if boundaries is not None:\n",
    "        plt.xlim(boundaries[0],boundaries[1])\n",
    "        \n",
    "    if vline == True:\n",
    "        plt.axvline(0,color='black',linewidth=2,alpha=.8,linestyle=\"--\")\n",
    "    \n",
    "\n",
    "    plt.xlabel(\"Estimate\")\n",
    "    plt.ylabel(\"\")\n",
    "    plt.show()"
   ]
  },
  {
   "cell_type": "markdown",
   "metadata": {},
   "source": [
    "## Załadowanie danych"
   ]
  },
  {
   "cell_type": "code",
   "execution_count": 3,
   "metadata": {},
   "outputs": [],
   "source": [
    "data = pd.read_csv(op.join('data', 'student', 'student-mat.csv'), sep =';')"
   ]
  },
  {
   "cell_type": "code",
   "execution_count": 4,
   "metadata": {},
   "outputs": [
    {
     "data": {
      "text/html": [
       "<div>\n",
       "<style scoped>\n",
       "    .dataframe tbody tr th:only-of-type {\n",
       "        vertical-align: middle;\n",
       "    }\n",
       "\n",
       "    .dataframe tbody tr th {\n",
       "        vertical-align: top;\n",
       "    }\n",
       "\n",
       "    .dataframe thead th {\n",
       "        text-align: right;\n",
       "    }\n",
       "</style>\n",
       "<table border=\"1\" class=\"dataframe\">\n",
       "  <thead>\n",
       "    <tr style=\"text-align: right;\">\n",
       "      <th></th>\n",
       "      <th>school</th>\n",
       "      <th>sex</th>\n",
       "      <th>age</th>\n",
       "      <th>address</th>\n",
       "      <th>famsize</th>\n",
       "      <th>Pstatus</th>\n",
       "      <th>Medu</th>\n",
       "      <th>Fedu</th>\n",
       "      <th>Mjob</th>\n",
       "      <th>Fjob</th>\n",
       "      <th>...</th>\n",
       "      <th>famrel</th>\n",
       "      <th>freetime</th>\n",
       "      <th>goout</th>\n",
       "      <th>Dalc</th>\n",
       "      <th>Walc</th>\n",
       "      <th>health</th>\n",
       "      <th>absences</th>\n",
       "      <th>G1</th>\n",
       "      <th>G2</th>\n",
       "      <th>G3</th>\n",
       "    </tr>\n",
       "  </thead>\n",
       "  <tbody>\n",
       "    <tr>\n",
       "      <th>0</th>\n",
       "      <td>GP</td>\n",
       "      <td>F</td>\n",
       "      <td>18</td>\n",
       "      <td>U</td>\n",
       "      <td>GT3</td>\n",
       "      <td>A</td>\n",
       "      <td>4</td>\n",
       "      <td>4</td>\n",
       "      <td>at_home</td>\n",
       "      <td>teacher</td>\n",
       "      <td>...</td>\n",
       "      <td>4</td>\n",
       "      <td>3</td>\n",
       "      <td>4</td>\n",
       "      <td>1</td>\n",
       "      <td>1</td>\n",
       "      <td>3</td>\n",
       "      <td>6</td>\n",
       "      <td>5</td>\n",
       "      <td>6</td>\n",
       "      <td>6</td>\n",
       "    </tr>\n",
       "    <tr>\n",
       "      <th>1</th>\n",
       "      <td>GP</td>\n",
       "      <td>F</td>\n",
       "      <td>17</td>\n",
       "      <td>U</td>\n",
       "      <td>GT3</td>\n",
       "      <td>T</td>\n",
       "      <td>1</td>\n",
       "      <td>1</td>\n",
       "      <td>at_home</td>\n",
       "      <td>other</td>\n",
       "      <td>...</td>\n",
       "      <td>5</td>\n",
       "      <td>3</td>\n",
       "      <td>3</td>\n",
       "      <td>1</td>\n",
       "      <td>1</td>\n",
       "      <td>3</td>\n",
       "      <td>4</td>\n",
       "      <td>5</td>\n",
       "      <td>5</td>\n",
       "      <td>6</td>\n",
       "    </tr>\n",
       "    <tr>\n",
       "      <th>2</th>\n",
       "      <td>GP</td>\n",
       "      <td>F</td>\n",
       "      <td>15</td>\n",
       "      <td>U</td>\n",
       "      <td>LE3</td>\n",
       "      <td>T</td>\n",
       "      <td>1</td>\n",
       "      <td>1</td>\n",
       "      <td>at_home</td>\n",
       "      <td>other</td>\n",
       "      <td>...</td>\n",
       "      <td>4</td>\n",
       "      <td>3</td>\n",
       "      <td>2</td>\n",
       "      <td>2</td>\n",
       "      <td>3</td>\n",
       "      <td>3</td>\n",
       "      <td>10</td>\n",
       "      <td>7</td>\n",
       "      <td>8</td>\n",
       "      <td>10</td>\n",
       "    </tr>\n",
       "    <tr>\n",
       "      <th>3</th>\n",
       "      <td>GP</td>\n",
       "      <td>F</td>\n",
       "      <td>15</td>\n",
       "      <td>U</td>\n",
       "      <td>GT3</td>\n",
       "      <td>T</td>\n",
       "      <td>4</td>\n",
       "      <td>2</td>\n",
       "      <td>health</td>\n",
       "      <td>services</td>\n",
       "      <td>...</td>\n",
       "      <td>3</td>\n",
       "      <td>2</td>\n",
       "      <td>2</td>\n",
       "      <td>1</td>\n",
       "      <td>1</td>\n",
       "      <td>5</td>\n",
       "      <td>2</td>\n",
       "      <td>15</td>\n",
       "      <td>14</td>\n",
       "      <td>15</td>\n",
       "    </tr>\n",
       "    <tr>\n",
       "      <th>4</th>\n",
       "      <td>GP</td>\n",
       "      <td>F</td>\n",
       "      <td>16</td>\n",
       "      <td>U</td>\n",
       "      <td>GT3</td>\n",
       "      <td>T</td>\n",
       "      <td>3</td>\n",
       "      <td>3</td>\n",
       "      <td>other</td>\n",
       "      <td>other</td>\n",
       "      <td>...</td>\n",
       "      <td>4</td>\n",
       "      <td>3</td>\n",
       "      <td>2</td>\n",
       "      <td>1</td>\n",
       "      <td>2</td>\n",
       "      <td>5</td>\n",
       "      <td>4</td>\n",
       "      <td>6</td>\n",
       "      <td>10</td>\n",
       "      <td>10</td>\n",
       "    </tr>\n",
       "  </tbody>\n",
       "</table>\n",
       "<p>5 rows × 33 columns</p>\n",
       "</div>"
      ],
      "text/plain": [
       "  school sex  age address famsize Pstatus  Medu  Fedu     Mjob      Fjob  ...  \\\n",
       "0     GP   F   18       U     GT3       A     4     4  at_home   teacher  ...   \n",
       "1     GP   F   17       U     GT3       T     1     1  at_home     other  ...   \n",
       "2     GP   F   15       U     LE3       T     1     1  at_home     other  ...   \n",
       "3     GP   F   15       U     GT3       T     4     2   health  services  ...   \n",
       "4     GP   F   16       U     GT3       T     3     3    other     other  ...   \n",
       "\n",
       "  famrel freetime  goout  Dalc  Walc health absences  G1  G2  G3  \n",
       "0      4        3      4     1     1      3        6   5   6   6  \n",
       "1      5        3      3     1     1      3        4   5   5   6  \n",
       "2      4        3      2     2     3      3       10   7   8  10  \n",
       "3      3        2      2     1     1      5        2  15  14  15  \n",
       "4      4        3      2     1     2      5        4   6  10  10  \n",
       "\n",
       "[5 rows x 33 columns]"
      ]
     },
     "execution_count": 4,
     "metadata": {},
     "output_type": "execute_result"
    }
   ],
   "source": [
    "data.head()"
   ]
  },
  {
   "cell_type": "markdown",
   "metadata": {},
   "source": [
    "#### Opis danych sporządzony przez twórcce bazy danych:\n",
    "1 school - student's school (binary: \"GP\" - Gabriel Pereira or \"MS\" - Mousinho da Silveira)<br>\n",
    "2 sex - student's sex (binary: \"F\" - female or \"M\" - male)<br>\n",
    "3 age - student's age (numeric: from 15 to 22)<br>\n",
    "4 address - student's home address type (binary: \"U\" - urban or \"R\" - rural)<br>\n",
    "5 famsize - family size (binary: \"LE3\" - less or equal to 3 or \"GT3\" - greater than 3)<br>\n",
    "6 Pstatus - parent's cohabitation status (binary: \"T\" - living together or \"A\" - apart)<br>\n",
    "7 Medu - mother's education (numeric: 0 - none,  1 - primary education (4th grade), 2 – 5th to 9th grade, 3 – secondary education or 4 – higher education)<br>\n",
    "8 Fedu - father's education (numeric: 0 - none,  1 - primary education (4th grade), 2 – 5th to 9th grade, 3 – secondary education or 4 – higher education)<br>\n",
    "9 Mjob - mother's job (nominal: \"teacher\", \"health\" care related, civil \"services\" (e.g. administrative or police), \"at_home\" or \"other\")<br>\n",
    "10 Fjob - father's job (nominal: \"teacher\", \"health\" care related, civil \"services\" (e.g. administrative or police), \"at_home\" or \"other\")<br>\n",
    "11 reason - reason to choose this school (nominal: close to \"home\", school \"reputation\", \"course\" preference or \"other\")<br>\n",
    "12 guardian - student's guardian (nominal: \"mother\", \"father\" or \"other\")<br>\n",
    "13 traveltime - home to school travel time (numeric: 1 - <15 min., 2 - 15 to 30 min., 3 - 30 min. to 1 hour, or 4 - >1 hour)<br>\n",
    "14 studytime - weekly study time (numeric: 1 - <2 hours, 2 - 2 to 5 hours, 3 - 5 to 10 hours, or 4 - >10 hours)<br>\n",
    "15 failures - number of past class failures (numeric: n if 1<=n<3, else 4)<br>\n",
    "16 schoolsup - extra educational support (binary: yes or no)<br>\n",
    "17 famsup - family educational support (binary: yes or no)<br>\n",
    "18 paid - extra paid classes within the course subject -Math (binary: yes or no)<br>\n",
    "19 activities - extra-curricular activities (binary: yes or no)<br>\n",
    "20 nursery - attended nursery school (binary: yes or no)<br>\n",
    "21 higher - wants to take higher education (binary: yes or no)<br>\n",
    "22 internet - Internet access at home (binary: yes or no)<br>\n",
    "23 romantic - with a romantic relationship (binary: yes or no)<br>\n",
    "24 famrel - quality of family relationships (numeric: from 1 - very bad to 5 - excellent)<br>\n",
    "25 freetime - free time after school (numeric: from 1 - very low to 5 - very high)<br>\n",
    "26 goout - going out with friends (numeric: from 1 - very low to 5 - very high)<br>\n",
    "27 Dalc - workday alcohol consumption (numeric: from 1 - very low to 5 - very high)<br>\n",
    "28 Walc - weekend alcohol consumption (numeric: from 1 - very low to 5 - very high)<br>\n",
    "29 health - current health status (numeric: from 1 - very bad to 5 - very good)<br>\n",
    "30 absences - number of school absences (numeric: from 0 to 93)<br>\n",
    "<br>\n",
    "#### these grades are related with the course subject- Math:<br>\n",
    "31 G1 - first period grade (numeric: from 0 to 20)<br>\n",
    "31 G2 - second period grade (numeric: from 0 to 20)<br>\n",
    "32 G3 - final grade (numeric: from 0 to 20, output target)<br>"
   ]
  },
  {
   "cell_type": "markdown",
   "metadata": {},
   "source": [
    "## Test t-studenta dla prób niezależnych"
   ]
  },
  {
   "cell_type": "markdown",
   "metadata": {},
   "source": [
    "Czy wielkość rodziny ucznia wpływa na jego oceną końcową?\n",
    "\n",
    "H0:Wielkość rodziny nie wpływa na ocene końcową ucznia<br>\n",
    "H1:Wielkość rodziny wpływa na ocene końcową ucznia"
   ]
  },
  {
   "cell_type": "code",
   "execution_count": 5,
   "metadata": {},
   "outputs": [
    {
     "data": {
      "text/plain": [
       "array(['GT3', 'LE3'], dtype=object)"
      ]
     },
     "execution_count": 5,
     "metadata": {},
     "output_type": "execute_result"
    }
   ],
   "source": [
    "data['famsize'].unique()"
   ]
  },
  {
   "cell_type": "markdown",
   "metadata": {},
   "source": [
    "'GT3' - duża rodzina <br>\n",
    "'LE3' - mała rodzina <br>\n",
    "'G3' - ocena końcowa"
   ]
  },
  {
   "cell_type": "code",
   "execution_count": 6,
   "metadata": {},
   "outputs": [],
   "source": [
    "mała_rodzina = data[data['famsize'] =='LE3']['G3']\n",
    "\n",
    "duża_rodzina = data[data['famsize'] =='GT3']['G3']"
   ]
  },
  {
   "cell_type": "code",
   "execution_count": 7,
   "metadata": {},
   "outputs": [
    {
     "data": {
      "text/plain": [
       "min         0.000\n",
       "max        19.000\n",
       "mean       11.000\n",
       "median     11.000\n",
       "std         4.226\n",
       "len       114.000\n",
       "Name: G3, dtype: float64"
      ]
     },
     "execution_count": 7,
     "metadata": {},
     "output_type": "execute_result"
    }
   ],
   "source": [
    "mała_rodzina.agg([min,max, np.mean,np.median,np.std,len ]).round(3)\n"
   ]
  },
  {
   "cell_type": "code",
   "execution_count": 8,
   "metadata": {},
   "outputs": [
    {
     "name": "stdout",
     "output_type": "stream",
     "text": [
      "Series([], Name: G3, dtype: float64)\n",
      "Series([], Name: G3, dtype: float64)\n"
     ]
    }
   ],
   "source": [
    "z_mała = (mała_rodzina - mała_rodzina.mean()) / mała_rodzina.std()\n",
    "print(z_mała[z_mała> 3])\n",
    "print(z_mała[z_mała< -3])"
   ]
  },
  {
   "cell_type": "markdown",
   "metadata": {},
   "source": [
    "Brak dewiantów dla małej rodziny"
   ]
  },
  {
   "cell_type": "code",
   "execution_count": 9,
   "metadata": {},
   "outputs": [
    {
     "data": {
      "text/plain": [
       "min         0.000\n",
       "max        20.000\n",
       "mean       10.178\n",
       "median     11.000\n",
       "std         4.705\n",
       "len       281.000\n",
       "Name: G3, dtype: float64"
      ]
     },
     "execution_count": 9,
     "metadata": {},
     "output_type": "execute_result"
    }
   ],
   "source": [
    "duża_rodzina.agg([min,max, np.mean,np.median,np.std,len ]).round(3)"
   ]
  },
  {
   "cell_type": "code",
   "execution_count": 10,
   "metadata": {},
   "outputs": [
    {
     "name": "stdout",
     "output_type": "stream",
     "text": [
      "Series([], Name: G3, dtype: float64)\n",
      "Series([], Name: G3, dtype: float64)\n"
     ]
    }
   ],
   "source": [
    "z_duża = (duża_rodzina - duża_rodzina.mean()) / duża_rodzina.std()\n",
    "print(z_duża[z_duża> 3])\n",
    "print(z_duża[z_duża< -3])"
   ]
  },
  {
   "cell_type": "markdown",
   "metadata": {},
   "source": [
    "Brak dewiantów dla dużej rodziny"
   ]
  },
  {
   "cell_type": "code",
   "execution_count": 11,
   "metadata": {},
   "outputs": [
    {
     "data": {
      "image/png": "[encoded data removed]",
      "text/plain": [
       "<Figure size 432x216 with 2 Axes>"
      ]
     },
     "metadata": {
      "needs_background": "light"
     },
     "output_type": "display_data"
    }
   ],
   "source": [
    "g =sns.FacetGrid(data, col ='famsize', hue ='famsize')\n",
    "g.map_dataframe(sns.histplot, x ='G3');"
   ]
  },
  {
   "cell_type": "code",
   "execution_count": 12,
   "metadata": {},
   "outputs": [
    {
     "data": {
      "text/html": [
       "<div>\n",
       "<style scoped>\n",
       "    .dataframe tbody tr th:only-of-type {\n",
       "        vertical-align: middle;\n",
       "    }\n",
       "\n",
       "    .dataframe tbody tr th {\n",
       "        vertical-align: top;\n",
       "    }\n",
       "\n",
       "    .dataframe thead th {\n",
       "        text-align: right;\n",
       "    }\n",
       "</style>\n",
       "<table border=\"1\" class=\"dataframe\">\n",
       "  <thead>\n",
       "    <tr style=\"text-align: right;\">\n",
       "      <th></th>\n",
       "      <th>T</th>\n",
       "      <th>dof</th>\n",
       "      <th>alternative</th>\n",
       "      <th>p-val</th>\n",
       "      <th>CI95%</th>\n",
       "      <th>cohen-d</th>\n",
       "      <th>BF10</th>\n",
       "      <th>power</th>\n",
       "    </tr>\n",
       "  </thead>\n",
       "  <tbody>\n",
       "    <tr>\n",
       "      <th>T-test</th>\n",
       "      <td>1.694</td>\n",
       "      <td>231.571</td>\n",
       "      <td>two-sided</td>\n",
       "      <td>0.092</td>\n",
       "      <td>[-0.13, 1.78]</td>\n",
       "      <td>0.18</td>\n",
       "      <td>0.483</td>\n",
       "      <td>0.365</td>\n",
       "    </tr>\n",
       "  </tbody>\n",
       "</table>\n",
       "</div>"
      ],
      "text/plain": [
       "            T      dof alternative  p-val          CI95%  cohen-d   BF10  \\\n",
       "T-test  1.694  231.571   two-sided  0.092  [-0.13, 1.78]     0.18  0.483   \n",
       "\n",
       "        power  \n",
       "T-test  0.365  "
      ]
     },
     "execution_count": 12,
     "metadata": {},
     "output_type": "execute_result"
    }
   ],
   "source": [
    "pg.ttest(mała_rodzina, duża_rodzina, correction ='auto').round(3)"
   ]
  },
  {
   "cell_type": "markdown",
   "metadata": {},
   "source": [
    "\n",
    "W celu sprawdzenia czy wielkość rodziny wpływa na ocenę końcową ucznia przeprowadzono test t-studenta dla prób niezależnych. Wynik analizy okazał się nieistotny statystycznie t(231.571) = 1.694 ; p = 0.092 ; d = 0.18. Między uczniami z mniejszych rodzin (mean = 11.0 ; std = 4.226) i uczniami z większych rodzin (mean = 10.178; std = 4.7045) nie zauważono istotnych statystycznie różnic w ocenach. Hipoteza zerowa okazała się prawdziwa.\n"
   ]
  },
  {
   "cell_type": "code",
   "execution_count": 13,
   "metadata": {},
   "outputs": [
    {
     "data": {
      "image/png": "[encoded data removed]",
      "text/plain": [
       "<Figure size 576x432 with 1 Axes>"
      ]
     },
     "metadata": {},
     "output_type": "display_data"
    }
   ],
   "source": [
    "plt.style.use(\"ggplot\")\n",
    "\n",
    "fig, ax = plt.subplots(figsize=(8, 6))\n",
    "\n",
    "sns.barplot(x='famsize',y='G3',data=data,\n",
    "            order=[\"LE3\",\"GT3\"],capsize=.15,errwidth=3)\n",
    "\n",
    "ax.set_xlabel(\"Wielkość rodziny\")\n",
    "ax.set_ylabel(\"Ocena na koniec roku\")\n",
    "\n",
    "ax.set_ylim(0,20);\n"
   ]
  },
  {
   "cell_type": "markdown",
   "metadata": {},
   "source": [
    "## Jednoczynnikowa analiza wariancji w schemacie międzygrupowym"
   ]
  },
  {
   "cell_type": "markdown",
   "metadata": {},
   "source": [
    "Czy poziom wykształcenia matki ucznia wpływa na jego wyniki szkolne?\n",
    "\n",
    "H0: Poziom wykształcenia matki ucznia nie wpływa na oceny ucznia w szkole. <br>\n",
    "H1: Poziom wykształcenia matki ucznia wpływa na oceny ucznia w szkole."
   ]
  },
  {
   "cell_type": "markdown",
   "metadata": {},
   "source": [
    "Medu - mother's education (numeric: 0 - none,  1 - primary education (4th grade), 2 – 5th to 9th grade, 3 – secondary education or 4 – higher education) <br>\n",
    "\n",
    "Dane pochodzą z Portugalii w której system edukacji ma inny podział niż w Polsce. Dlatego pewnie dla twórcy tego zbioru danych wykształcenie podstawowe kończy się na 4 klasie. Postanowiłem trzymać się tej konwencji i 2 przedział edukacji od piątej do dziewiątej klasy postanowiłem nazwać wykształceniem podstawowym wyższym."
   ]
  },
  {
   "cell_type": "code",
   "execution_count": 14,
   "metadata": {},
   "outputs": [
    {
     "data": {
      "text/plain": [
       "array([4, 1, 3, 2, 0], dtype=int64)"
      ]
     },
     "execution_count": 14,
     "metadata": {},
     "output_type": "execute_result"
    }
   ],
   "source": [
    "data['Medu'].unique()"
   ]
  },
  {
   "cell_type": "code",
   "execution_count": 15,
   "metadata": {},
   "outputs": [],
   "source": [
    "data['Medu']= data['Medu'].map({0: 'brak', 1:'Podstawowe', 2:'Podstawowe wyższe', 3:'Średnie', 4: 'Wyższe'})"
   ]
  },
  {
   "cell_type": "code",
   "execution_count": 16,
   "metadata": {},
   "outputs": [
    {
     "data": {
      "text/html": [
       "<div>\n",
       "<style scoped>\n",
       "    .dataframe tbody tr th:only-of-type {\n",
       "        vertical-align: middle;\n",
       "    }\n",
       "\n",
       "    .dataframe tbody tr th {\n",
       "        vertical-align: top;\n",
       "    }\n",
       "\n",
       "    .dataframe thead th {\n",
       "        text-align: right;\n",
       "    }\n",
       "</style>\n",
       "<table border=\"1\" class=\"dataframe\">\n",
       "  <thead>\n",
       "    <tr style=\"text-align: right;\">\n",
       "      <th></th>\n",
       "      <th>mean</th>\n",
       "      <th>median</th>\n",
       "      <th>std</th>\n",
       "      <th>amin</th>\n",
       "      <th>amax</th>\n",
       "      <th>len</th>\n",
       "    </tr>\n",
       "    <tr>\n",
       "      <th>Medu</th>\n",
       "      <th></th>\n",
       "      <th></th>\n",
       "      <th></th>\n",
       "      <th></th>\n",
       "      <th></th>\n",
       "      <th></th>\n",
       "    </tr>\n",
       "  </thead>\n",
       "  <tbody>\n",
       "    <tr>\n",
       "      <th>Podstawowe</th>\n",
       "      <td>8.677966</td>\n",
       "      <td>10</td>\n",
       "      <td>4.364594</td>\n",
       "      <td>0</td>\n",
       "      <td>16</td>\n",
       "      <td>59</td>\n",
       "    </tr>\n",
       "    <tr>\n",
       "      <th>Podstawowe wyższe</th>\n",
       "      <td>9.728155</td>\n",
       "      <td>11</td>\n",
       "      <td>4.636163</td>\n",
       "      <td>0</td>\n",
       "      <td>19</td>\n",
       "      <td>103</td>\n",
       "    </tr>\n",
       "    <tr>\n",
       "      <th>Wyższe</th>\n",
       "      <td>11.763359</td>\n",
       "      <td>12</td>\n",
       "      <td>4.267646</td>\n",
       "      <td>0</td>\n",
       "      <td>20</td>\n",
       "      <td>131</td>\n",
       "    </tr>\n",
       "    <tr>\n",
       "      <th>brak</th>\n",
       "      <td>13.000000</td>\n",
       "      <td>15</td>\n",
       "      <td>3.464102</td>\n",
       "      <td>9</td>\n",
       "      <td>15</td>\n",
       "      <td>3</td>\n",
       "    </tr>\n",
       "    <tr>\n",
       "      <th>Średnie</th>\n",
       "      <td>10.303030</td>\n",
       "      <td>10</td>\n",
       "      <td>4.623486</td>\n",
       "      <td>0</td>\n",
       "      <td>19</td>\n",
       "      <td>99</td>\n",
       "    </tr>\n",
       "  </tbody>\n",
       "</table>\n",
       "</div>"
      ],
      "text/plain": [
       "                        mean  median       std  amin  amax  len\n",
       "Medu                                                           \n",
       "Podstawowe          8.677966      10  4.364594     0    16   59\n",
       "Podstawowe wyższe   9.728155      11  4.636163     0    19  103\n",
       "Wyższe             11.763359      12  4.267646     0    20  131\n",
       "brak               13.000000      15  3.464102     9    15    3\n",
       "Średnie            10.303030      10  4.623486     0    19   99"
      ]
     },
     "execution_count": 16,
     "metadata": {},
     "output_type": "execute_result"
    }
   ],
   "source": [
    "data.groupby('Medu')['G3'].agg([np.mean, np.median, np.std, np.min, np.max, len])"
   ]
  },
  {
   "cell_type": "code",
   "execution_count": 17,
   "metadata": {},
   "outputs": [
    {
     "data": {
      "text/plain": [
       "array(['Wyższe', 'Podstawowe', 'Średnie', 'Podstawowe wyższe', 'brak'],\n",
       "      dtype=object)"
      ]
     },
     "execution_count": 17,
     "metadata": {},
     "output_type": "execute_result"
    }
   ],
   "source": [
    "data['Medu'].unique()"
   ]
  },
  {
   "cell_type": "code",
   "execution_count": 18,
   "metadata": {},
   "outputs": [
    {
     "data": {
      "image/png": "[encoded data removed]",
      "text/plain": [
       "<Figure size 1080x216 with 5 Axes>"
      ]
     },
     "metadata": {},
     "output_type": "display_data"
    }
   ],
   "source": [
    "g = sns.FacetGrid(data, col ='Medu', hue ='Medu')\n",
    "g.map_dataframe(sns.histplot, x ='G3');"
   ]
  },
  {
   "cell_type": "markdown",
   "metadata": {},
   "source": [
    "Związku z tym że dane są nierównoliczne znowu postanowiłem zastosować dwa rozwiązania:\n",
    "1. Nie używać czynnika brak wykształcenie bo zawiera on tylko 3 pomiary. Wylosować próbki zawierające po 50 pomiarów z pozostałych grup i na nich przeprowadzić analize ANOVA.\n",
    "2. Biblioteka pingouin zawiera implematacje ANOVY Welcha, która jest odporna na nierównolicznośc grup."
   ]
  },
  {
   "cell_type": "markdown",
   "metadata": {},
   "source": [
    "### Próbkowanie danych i klasyczna ANOVA"
   ]
  },
  {
   "cell_type": "code",
   "execution_count": 19,
   "metadata": {},
   "outputs": [],
   "source": [
    "import random \n",
    "\n",
    "wyzsze = data[data['Medu'] =='Wyższe']['G3']\n",
    "wyzsze_probka = pd.DataFrame({'G3' : random.sample(list(wyzsze), k = 50), 'Wykształcenie' : 'Wyższe'})\n",
    "\n",
    "srednie = data[data['Medu'] =='Średnie']['G3']\n",
    "srednie_probka = pd.DataFrame({'G3' : random.sample(list(srednie), k = 50), 'Wykształcenie' : 'Średnie'})\n",
    "\n",
    "podstawowe_wyzsze = data[data['Medu'] =='Podstawowe wyższe']['G3']\n",
    "podstawowe_wyzsze_probka = pd.DataFrame({'G3' : random.sample(list(podstawowe_wyzsze), k = 50), 'Wykształcenie' : 'Podstawowe_wyższe'})\n",
    "\n",
    "podstawowe = data[data['Medu'] =='Podstawowe']['G3']\n",
    "podstawowe_probka = pd.DataFrame({'G3' : random.sample(list(podstawowe), k = 50), 'Wykształcenie' : 'Podstawowe'})"
   ]
  },
  {
   "cell_type": "code",
   "execution_count": 20,
   "metadata": {},
   "outputs": [],
   "source": [
    "d = pd.concat([wyzsze_probka,srednie_probka,podstawowe_wyzsze_probka,podstawowe_probka])"
   ]
  },
  {
   "cell_type": "code",
   "execution_count": 21,
   "metadata": {},
   "outputs": [
    {
     "data": {
      "text/html": [
       "<div>\n",
       "<style scoped>\n",
       "    .dataframe tbody tr th:only-of-type {\n",
       "        vertical-align: middle;\n",
       "    }\n",
       "\n",
       "    .dataframe tbody tr th {\n",
       "        vertical-align: top;\n",
       "    }\n",
       "\n",
       "    .dataframe thead th {\n",
       "        text-align: right;\n",
       "    }\n",
       "</style>\n",
       "<table border=\"1\" class=\"dataframe\">\n",
       "  <thead>\n",
       "    <tr style=\"text-align: right;\">\n",
       "      <th></th>\n",
       "      <th>G3</th>\n",
       "      <th>Wykształcenie</th>\n",
       "    </tr>\n",
       "  </thead>\n",
       "  <tbody>\n",
       "    <tr>\n",
       "      <th>0</th>\n",
       "      <td>10</td>\n",
       "      <td>Wyższe</td>\n",
       "    </tr>\n",
       "    <tr>\n",
       "      <th>1</th>\n",
       "      <td>0</td>\n",
       "      <td>Wyższe</td>\n",
       "    </tr>\n",
       "    <tr>\n",
       "      <th>2</th>\n",
       "      <td>11</td>\n",
       "      <td>Wyższe</td>\n",
       "    </tr>\n",
       "    <tr>\n",
       "      <th>3</th>\n",
       "      <td>12</td>\n",
       "      <td>Wyższe</td>\n",
       "    </tr>\n",
       "    <tr>\n",
       "      <th>4</th>\n",
       "      <td>13</td>\n",
       "      <td>Wyższe</td>\n",
       "    </tr>\n",
       "    <tr>\n",
       "      <th>...</th>\n",
       "      <td>...</td>\n",
       "      <td>...</td>\n",
       "    </tr>\n",
       "    <tr>\n",
       "      <th>45</th>\n",
       "      <td>13</td>\n",
       "      <td>Podstawowe</td>\n",
       "    </tr>\n",
       "    <tr>\n",
       "      <th>46</th>\n",
       "      <td>16</td>\n",
       "      <td>Podstawowe</td>\n",
       "    </tr>\n",
       "    <tr>\n",
       "      <th>47</th>\n",
       "      <td>8</td>\n",
       "      <td>Podstawowe</td>\n",
       "    </tr>\n",
       "    <tr>\n",
       "      <th>48</th>\n",
       "      <td>10</td>\n",
       "      <td>Podstawowe</td>\n",
       "    </tr>\n",
       "    <tr>\n",
       "      <th>49</th>\n",
       "      <td>0</td>\n",
       "      <td>Podstawowe</td>\n",
       "    </tr>\n",
       "  </tbody>\n",
       "</table>\n",
       "<p>200 rows × 2 columns</p>\n",
       "</div>"
      ],
      "text/plain": [
       "    G3 Wykształcenie\n",
       "0   10        Wyższe\n",
       "1    0        Wyższe\n",
       "2   11        Wyższe\n",
       "3   12        Wyższe\n",
       "4   13        Wyższe\n",
       "..  ..           ...\n",
       "45  13    Podstawowe\n",
       "46  16    Podstawowe\n",
       "47   8    Podstawowe\n",
       "48  10    Podstawowe\n",
       "49   0    Podstawowe\n",
       "\n",
       "[200 rows x 2 columns]"
      ]
     },
     "execution_count": 21,
     "metadata": {},
     "output_type": "execute_result"
    }
   ],
   "source": [
    "d"
   ]
  },
  {
   "cell_type": "code",
   "execution_count": 22,
   "metadata": {},
   "outputs": [
    {
     "data": {
      "image/png": "[encoded data removed]",
      "text/plain": [
       "<Figure size 864x216 with 4 Axes>"
      ]
     },
     "metadata": {},
     "output_type": "display_data"
    }
   ],
   "source": [
    "g = sns.FacetGrid(d, col ='Wykształcenie', hue ='Wykształcenie')\n",
    "g.map_dataframe(sns.histplot, x ='G3');"
   ]
  },
  {
   "cell_type": "code",
   "execution_count": 23,
   "metadata": {},
   "outputs": [
    {
     "data": {
      "text/html": [
       "<div>\n",
       "<style scoped>\n",
       "    .dataframe tbody tr th:only-of-type {\n",
       "        vertical-align: middle;\n",
       "    }\n",
       "\n",
       "    .dataframe tbody tr th {\n",
       "        vertical-align: top;\n",
       "    }\n",
       "\n",
       "    .dataframe thead tr th {\n",
       "        text-align: left;\n",
       "    }\n",
       "\n",
       "    .dataframe thead tr:last-of-type th {\n",
       "        text-align: right;\n",
       "    }\n",
       "</style>\n",
       "<table border=\"1\" class=\"dataframe\">\n",
       "  <thead>\n",
       "    <tr>\n",
       "      <th></th>\n",
       "      <th colspan=\"4\" halign=\"left\">G3</th>\n",
       "    </tr>\n",
       "    <tr>\n",
       "      <th></th>\n",
       "      <th>mean</th>\n",
       "      <th>std</th>\n",
       "      <th>amin</th>\n",
       "      <th>amax</th>\n",
       "    </tr>\n",
       "    <tr>\n",
       "      <th>Wykształcenie</th>\n",
       "      <th></th>\n",
       "      <th></th>\n",
       "      <th></th>\n",
       "      <th></th>\n",
       "    </tr>\n",
       "  </thead>\n",
       "  <tbody>\n",
       "    <tr>\n",
       "      <th>Podstawowe</th>\n",
       "      <td>9.32</td>\n",
       "      <td>3.925011</td>\n",
       "      <td>0</td>\n",
       "      <td>16</td>\n",
       "    </tr>\n",
       "    <tr>\n",
       "      <th>Podstawowe_wyższe</th>\n",
       "      <td>9.58</td>\n",
       "      <td>4.725485</td>\n",
       "      <td>0</td>\n",
       "      <td>19</td>\n",
       "    </tr>\n",
       "    <tr>\n",
       "      <th>Wyższe</th>\n",
       "      <td>10.82</td>\n",
       "      <td>4.783859</td>\n",
       "      <td>0</td>\n",
       "      <td>19</td>\n",
       "    </tr>\n",
       "    <tr>\n",
       "      <th>Średnie</th>\n",
       "      <td>10.04</td>\n",
       "      <td>4.789274</td>\n",
       "      <td>0</td>\n",
       "      <td>18</td>\n",
       "    </tr>\n",
       "  </tbody>\n",
       "</table>\n",
       "</div>"
      ],
      "text/plain": [
       "                      G3                    \n",
       "                    mean       std amin amax\n",
       "Wykształcenie                               \n",
       "Podstawowe          9.32  3.925011    0   16\n",
       "Podstawowe_wyższe   9.58  4.725485    0   19\n",
       "Wyższe             10.82  4.783859    0   19\n",
       "Średnie            10.04  4.789274    0   18"
      ]
     },
     "execution_count": 23,
     "metadata": {},
     "output_type": "execute_result"
    }
   ],
   "source": [
    "d.groupby('Wykształcenie').agg([np.mean, np.std, np.min, np.max])"
   ]
  },
  {
   "cell_type": "code",
   "execution_count": 24,
   "metadata": {},
   "outputs": [
    {
     "data": {
      "text/html": [
       "<div>\n",
       "<style scoped>\n",
       "    .dataframe tbody tr th:only-of-type {\n",
       "        vertical-align: middle;\n",
       "    }\n",
       "\n",
       "    .dataframe tbody tr th {\n",
       "        vertical-align: top;\n",
       "    }\n",
       "\n",
       "    .dataframe thead th {\n",
       "        text-align: right;\n",
       "    }\n",
       "</style>\n",
       "<table border=\"1\" class=\"dataframe\">\n",
       "  <thead>\n",
       "    <tr style=\"text-align: right;\">\n",
       "      <th></th>\n",
       "      <th>Source</th>\n",
       "      <th>ddof1</th>\n",
       "      <th>ddof2</th>\n",
       "      <th>F</th>\n",
       "      <th>p-unc</th>\n",
       "      <th>np2</th>\n",
       "    </tr>\n",
       "  </thead>\n",
       "  <tbody>\n",
       "    <tr>\n",
       "      <th>0</th>\n",
       "      <td>Wykształcenie</td>\n",
       "      <td>3</td>\n",
       "      <td>196</td>\n",
       "      <td>1.0359</td>\n",
       "      <td>0.3778</td>\n",
       "      <td>0.0156</td>\n",
       "    </tr>\n",
       "  </tbody>\n",
       "</table>\n",
       "</div>"
      ],
      "text/plain": [
       "          Source  ddof1  ddof2       F   p-unc     np2\n",
       "0  Wykształcenie      3    196  1.0359  0.3778  0.0156"
      ]
     },
     "execution_count": 24,
     "metadata": {},
     "output_type": "execute_result"
    }
   ],
   "source": [
    "pg.anova(data = d, dv ='G3', between= 'Wykształcenie').round(4)"
   ]
  },
  {
   "cell_type": "code",
   "execution_count": 25,
   "metadata": {},
   "outputs": [
    {
     "data": {
      "text/html": [
       "<div>\n",
       "<style scoped>\n",
       "    .dataframe tbody tr th:only-of-type {\n",
       "        vertical-align: middle;\n",
       "    }\n",
       "\n",
       "    .dataframe tbody tr th {\n",
       "        vertical-align: top;\n",
       "    }\n",
       "\n",
       "    .dataframe thead th {\n",
       "        text-align: right;\n",
       "    }\n",
       "</style>\n",
       "<table border=\"1\" class=\"dataframe\">\n",
       "  <thead>\n",
       "    <tr style=\"text-align: right;\">\n",
       "      <th></th>\n",
       "      <th>Contrast</th>\n",
       "      <th>A</th>\n",
       "      <th>B</th>\n",
       "      <th>Paired</th>\n",
       "      <th>Parametric</th>\n",
       "      <th>T</th>\n",
       "      <th>dof</th>\n",
       "      <th>alternative</th>\n",
       "      <th>p-unc</th>\n",
       "      <th>p-corr</th>\n",
       "      <th>p-adjust</th>\n",
       "      <th>BF10</th>\n",
       "      <th>cohen</th>\n",
       "    </tr>\n",
       "  </thead>\n",
       "  <tbody>\n",
       "    <tr>\n",
       "      <th>0</th>\n",
       "      <td>Wykształcenie</td>\n",
       "      <td>Podstawowe</td>\n",
       "      <td>Podstawowe_wyższe</td>\n",
       "      <td>False</td>\n",
       "      <td>True</td>\n",
       "      <td>-0.2993</td>\n",
       "      <td>98.0</td>\n",
       "      <td>two-sided</td>\n",
       "      <td>0.7654</td>\n",
       "      <td>0.9998</td>\n",
       "      <td>sidak</td>\n",
       "      <td>0.219</td>\n",
       "      <td>-0.0599</td>\n",
       "    </tr>\n",
       "    <tr>\n",
       "      <th>1</th>\n",
       "      <td>Wykształcenie</td>\n",
       "      <td>Podstawowe</td>\n",
       "      <td>Wyższe</td>\n",
       "      <td>False</td>\n",
       "      <td>True</td>\n",
       "      <td>-1.7141</td>\n",
       "      <td>98.0</td>\n",
       "      <td>two-sided</td>\n",
       "      <td>0.0897</td>\n",
       "      <td>0.4309</td>\n",
       "      <td>sidak</td>\n",
       "      <td>0.771</td>\n",
       "      <td>-0.3428</td>\n",
       "    </tr>\n",
       "    <tr>\n",
       "      <th>2</th>\n",
       "      <td>Wykształcenie</td>\n",
       "      <td>Podstawowe</td>\n",
       "      <td>Średnie</td>\n",
       "      <td>False</td>\n",
       "      <td>True</td>\n",
       "      <td>-0.8222</td>\n",
       "      <td>98.0</td>\n",
       "      <td>two-sided</td>\n",
       "      <td>0.4130</td>\n",
       "      <td>0.9591</td>\n",
       "      <td>sidak</td>\n",
       "      <td>0.285</td>\n",
       "      <td>-0.1644</td>\n",
       "    </tr>\n",
       "    <tr>\n",
       "      <th>3</th>\n",
       "      <td>Wykształcenie</td>\n",
       "      <td>Podstawowe_wyższe</td>\n",
       "      <td>Wyższe</td>\n",
       "      <td>False</td>\n",
       "      <td>True</td>\n",
       "      <td>-1.3040</td>\n",
       "      <td>98.0</td>\n",
       "      <td>two-sided</td>\n",
       "      <td>0.1953</td>\n",
       "      <td>0.7285</td>\n",
       "      <td>sidak</td>\n",
       "      <td>0.448</td>\n",
       "      <td>-0.2608</td>\n",
       "    </tr>\n",
       "    <tr>\n",
       "      <th>4</th>\n",
       "      <td>Wykształcenie</td>\n",
       "      <td>Podstawowe_wyższe</td>\n",
       "      <td>Średnie</td>\n",
       "      <td>False</td>\n",
       "      <td>True</td>\n",
       "      <td>-0.4834</td>\n",
       "      <td>98.0</td>\n",
       "      <td>two-sided</td>\n",
       "      <td>0.6299</td>\n",
       "      <td>0.9974</td>\n",
       "      <td>sidak</td>\n",
       "      <td>0.234</td>\n",
       "      <td>-0.0967</td>\n",
       "    </tr>\n",
       "    <tr>\n",
       "      <th>5</th>\n",
       "      <td>Wykształcenie</td>\n",
       "      <td>Wyższe</td>\n",
       "      <td>Średnie</td>\n",
       "      <td>False</td>\n",
       "      <td>True</td>\n",
       "      <td>0.8148</td>\n",
       "      <td>98.0</td>\n",
       "      <td>two-sided</td>\n",
       "      <td>0.4172</td>\n",
       "      <td>0.9608</td>\n",
       "      <td>sidak</td>\n",
       "      <td>0.283</td>\n",
       "      <td>0.1630</td>\n",
       "    </tr>\n",
       "  </tbody>\n",
       "</table>\n",
       "</div>"
      ],
      "text/plain": [
       "        Contrast                  A                  B  Paired  Parametric  \\\n",
       "0  Wykształcenie         Podstawowe  Podstawowe_wyższe   False        True   \n",
       "1  Wykształcenie         Podstawowe             Wyższe   False        True   \n",
       "2  Wykształcenie         Podstawowe            Średnie   False        True   \n",
       "3  Wykształcenie  Podstawowe_wyższe             Wyższe   False        True   \n",
       "4  Wykształcenie  Podstawowe_wyższe            Średnie   False        True   \n",
       "5  Wykształcenie             Wyższe            Średnie   False        True   \n",
       "\n",
       "        T   dof alternative   p-unc  p-corr p-adjust   BF10   cohen  \n",
       "0 -0.2993  98.0   two-sided  0.7654  0.9998    sidak  0.219 -0.0599  \n",
       "1 -1.7141  98.0   two-sided  0.0897  0.4309    sidak  0.771 -0.3428  \n",
       "2 -0.8222  98.0   two-sided  0.4130  0.9591    sidak  0.285 -0.1644  \n",
       "3 -1.3040  98.0   two-sided  0.1953  0.7285    sidak  0.448 -0.2608  \n",
       "4 -0.4834  98.0   two-sided  0.6299  0.9974    sidak  0.234 -0.0967  \n",
       "5  0.8148  98.0   two-sided  0.4172  0.9608    sidak  0.283  0.1630  "
      ]
     },
     "execution_count": 25,
     "metadata": {},
     "output_type": "execute_result"
    }
   ],
   "source": [
    "pg.pairwise_ttests(data = d, dv = 'G3', between = 'Wykształcenie', effsize='cohen', padjust = 'sidak').round(4)"
   ]
  },
  {
   "cell_type": "markdown",
   "metadata": {},
   "source": [
    "Przeprowadzono analizę jednoczynnikową ANOVA w schemacie międzygrupowym w celu sprawdzenia czy poziom wyszktałcenie matki wpływa na wyniki w nauce ucznia. Wynik analizy okazał się istotny statystycznie, F(3,196) = 4.1647; p = 0.0069 ; eta^2 = 0.0599. Wynik ety kwadrat wskazuje na występowanie silnego efektu poziomu wykształcenia matki ucznia. Porównania parami z korektą Sidaka wykazały istnienie istotnych statystycznie różnic między:\n",
    "- Uczniami, których matka ma wykształcenie wyższe a tymi których matka ma wykształcenie podstawowe (p < 0.001)<br>\n",
    "\n",
    "Nie wykazano różnic istotnych statystycznie dla reszty par."
   ]
  },
  {
   "cell_type": "markdown",
   "metadata": {},
   "source": [
    "Uczniowie, których matka posiada wykształcenie wyższe(mean = 11.72 ; std = 4.050901\t) zdobywają lepsze oceny od uczniów, których matki posiadają wykształcenie podstawowe (mean = 8.68\t ; std = 4.419068)"
   ]
  },
  {
   "cell_type": "code",
   "execution_count": 26,
   "metadata": {},
   "outputs": [
    {
     "data": {
      "image/png": "[encoded data removed]",
      "text/plain": [
       "<Figure size 576x432 with 1 Axes>"
      ]
     },
     "metadata": {},
     "output_type": "display_data"
    }
   ],
   "source": [
    "plt.style.use(\"ggplot\")\n",
    "\n",
    "fig, ax = plt.subplots(figsize=(8, 6))\n",
    "\n",
    "sns.barplot(x='Wykształcenie',y='G3',data=d,\n",
    "            order=[\"Wyższe\",\"Średnie\",\"Podstawowe_wyższe\", 'Podstawowe'],capsize=.15,errwidth=3)\n",
    "\n",
    "ax.set_xlabel(\"Poziom wykształcenia\")\n",
    "ax.set_ylabel(\"Ocena na koniec roku\")\n",
    "\n",
    "ax.set_ylim(0,20);\n"
   ]
  },
  {
   "cell_type": "markdown",
   "metadata": {},
   "source": [
    "### Implementacja ANOVY Welcha"
   ]
  },
  {
   "cell_type": "code",
   "execution_count": 27,
   "metadata": {},
   "outputs": [
    {
     "data": {
      "text/html": [
       "<div>\n",
       "<style scoped>\n",
       "    .dataframe tbody tr th:only-of-type {\n",
       "        vertical-align: middle;\n",
       "    }\n",
       "\n",
       "    .dataframe tbody tr th {\n",
       "        vertical-align: top;\n",
       "    }\n",
       "\n",
       "    .dataframe thead th {\n",
       "        text-align: right;\n",
       "    }\n",
       "</style>\n",
       "<table border=\"1\" class=\"dataframe\">\n",
       "  <thead>\n",
       "    <tr style=\"text-align: right;\">\n",
       "      <th></th>\n",
       "      <th>Source</th>\n",
       "      <th>ddof1</th>\n",
       "      <th>ddof2</th>\n",
       "      <th>F</th>\n",
       "      <th>p-unc</th>\n",
       "      <th>np2</th>\n",
       "    </tr>\n",
       "  </thead>\n",
       "  <tbody>\n",
       "    <tr>\n",
       "      <th>0</th>\n",
       "      <td>Medu</td>\n",
       "      <td>4</td>\n",
       "      <td>15.543</td>\n",
       "      <td>5.835</td>\n",
       "      <td>0.005</td>\n",
       "      <td>0.059</td>\n",
       "    </tr>\n",
       "  </tbody>\n",
       "</table>\n",
       "</div>"
      ],
      "text/plain": [
       "  Source  ddof1   ddof2      F  p-unc    np2\n",
       "0   Medu      4  15.543  5.835  0.005  0.059"
      ]
     },
     "execution_count": 27,
     "metadata": {},
     "output_type": "execute_result"
    }
   ],
   "source": [
    "pg.welch_anova(data= data, dv ='G3', between= 'Medu').round(3)"
   ]
  },
  {
   "cell_type": "markdown",
   "metadata": {},
   "source": [
    "Testy post-hoc:"
   ]
  },
  {
   "cell_type": "code",
   "execution_count": 28,
   "metadata": {},
   "outputs": [
    {
     "data": {
      "text/html": [
       "<div>\n",
       "<style scoped>\n",
       "    .dataframe tbody tr th:only-of-type {\n",
       "        vertical-align: middle;\n",
       "    }\n",
       "\n",
       "    .dataframe tbody tr th {\n",
       "        vertical-align: top;\n",
       "    }\n",
       "\n",
       "    .dataframe thead th {\n",
       "        text-align: right;\n",
       "    }\n",
       "</style>\n",
       "<table border=\"1\" class=\"dataframe\">\n",
       "  <thead>\n",
       "    <tr style=\"text-align: right;\">\n",
       "      <th></th>\n",
       "      <th>Contrast</th>\n",
       "      <th>A</th>\n",
       "      <th>B</th>\n",
       "      <th>Paired</th>\n",
       "      <th>Parametric</th>\n",
       "      <th>T</th>\n",
       "      <th>dof</th>\n",
       "      <th>alternative</th>\n",
       "      <th>p-unc</th>\n",
       "      <th>p-corr</th>\n",
       "      <th>p-adjust</th>\n",
       "      <th>BF10</th>\n",
       "      <th>cohen</th>\n",
       "    </tr>\n",
       "  </thead>\n",
       "  <tbody>\n",
       "    <tr>\n",
       "      <th>0</th>\n",
       "      <td>Medu</td>\n",
       "      <td>Podstawowe</td>\n",
       "      <td>Podstawowe wyższe</td>\n",
       "      <td>False</td>\n",
       "      <td>True</td>\n",
       "      <td>-1.4404</td>\n",
       "      <td>127.0278</td>\n",
       "      <td>two-sided</td>\n",
       "      <td>0.1522</td>\n",
       "      <td>0.8082</td>\n",
       "      <td>sidak</td>\n",
       "      <td>0.455</td>\n",
       "      <td>-0.2313</td>\n",
       "    </tr>\n",
       "    <tr>\n",
       "      <th>1</th>\n",
       "      <td>Medu</td>\n",
       "      <td>Podstawowe</td>\n",
       "      <td>Wyższe</td>\n",
       "      <td>False</td>\n",
       "      <td>True</td>\n",
       "      <td>-4.5398</td>\n",
       "      <td>109.6339</td>\n",
       "      <td>two-sided</td>\n",
       "      <td>0.0000</td>\n",
       "      <td>0.0001</td>\n",
       "      <td>sidak</td>\n",
       "      <td>1670.079</td>\n",
       "      <td>-0.7179</td>\n",
       "    </tr>\n",
       "    <tr>\n",
       "      <th>2</th>\n",
       "      <td>Medu</td>\n",
       "      <td>Podstawowe</td>\n",
       "      <td>brak</td>\n",
       "      <td>False</td>\n",
       "      <td>True</td>\n",
       "      <td>-2.0787</td>\n",
       "      <td>2.3354</td>\n",
       "      <td>two-sided</td>\n",
       "      <td>0.1546</td>\n",
       "      <td>0.8135</td>\n",
       "      <td>sidak</td>\n",
       "      <td>1.811</td>\n",
       "      <td>-0.9964</td>\n",
       "    </tr>\n",
       "    <tr>\n",
       "      <th>3</th>\n",
       "      <td>Medu</td>\n",
       "      <td>Podstawowe</td>\n",
       "      <td>Średnie</td>\n",
       "      <td>False</td>\n",
       "      <td>True</td>\n",
       "      <td>-2.2139</td>\n",
       "      <td>127.7115</td>\n",
       "      <td>two-sided</td>\n",
       "      <td>0.0286</td>\n",
       "      <td>0.2519</td>\n",
       "      <td>sidak</td>\n",
       "      <td>1.645</td>\n",
       "      <td>-0.3588</td>\n",
       "    </tr>\n",
       "    <tr>\n",
       "      <th>4</th>\n",
       "      <td>Medu</td>\n",
       "      <td>Podstawowe wyższe</td>\n",
       "      <td>Wyższe</td>\n",
       "      <td>False</td>\n",
       "      <td>True</td>\n",
       "      <td>-3.4514</td>\n",
       "      <td>210.0373</td>\n",
       "      <td>two-sided</td>\n",
       "      <td>0.0007</td>\n",
       "      <td>0.0067</td>\n",
       "      <td>sidak</td>\n",
       "      <td>35.974</td>\n",
       "      <td>-0.4591</td>\n",
       "    </tr>\n",
       "    <tr>\n",
       "      <th>5</th>\n",
       "      <td>Medu</td>\n",
       "      <td>Podstawowe wyższe</td>\n",
       "      <td>brak</td>\n",
       "      <td>False</td>\n",
       "      <td>True</td>\n",
       "      <td>-1.5948</td>\n",
       "      <td>2.2140</td>\n",
       "      <td>two-sided</td>\n",
       "      <td>0.2398</td>\n",
       "      <td>0.9356</td>\n",
       "      <td>sidak</td>\n",
       "      <td>1.031</td>\n",
       "      <td>-0.7087</td>\n",
       "    </tr>\n",
       "    <tr>\n",
       "      <th>6</th>\n",
       "      <td>Medu</td>\n",
       "      <td>Podstawowe wyższe</td>\n",
       "      <td>Średnie</td>\n",
       "      <td>False</td>\n",
       "      <td>True</td>\n",
       "      <td>-0.8822</td>\n",
       "      <td>199.7255</td>\n",
       "      <td>two-sided</td>\n",
       "      <td>0.3787</td>\n",
       "      <td>0.9914</td>\n",
       "      <td>sidak</td>\n",
       "      <td>0.221</td>\n",
       "      <td>-0.1242</td>\n",
       "    </tr>\n",
       "    <tr>\n",
       "      <th>7</th>\n",
       "      <td>Medu</td>\n",
       "      <td>Wyższe</td>\n",
       "      <td>brak</td>\n",
       "      <td>False</td>\n",
       "      <td>True</td>\n",
       "      <td>-0.6078</td>\n",
       "      <td>2.1414</td>\n",
       "      <td>two-sided</td>\n",
       "      <td>0.6015</td>\n",
       "      <td>0.9999</td>\n",
       "      <td>sidak</td>\n",
       "      <td>0.525</td>\n",
       "      <td>-0.2905</td>\n",
       "    </tr>\n",
       "    <tr>\n",
       "      <th>8</th>\n",
       "      <td>Medu</td>\n",
       "      <td>Wyższe</td>\n",
       "      <td>Średnie</td>\n",
       "      <td>False</td>\n",
       "      <td>True</td>\n",
       "      <td>2.4511</td>\n",
       "      <td>201.7696</td>\n",
       "      <td>two-sided</td>\n",
       "      <td>0.0151</td>\n",
       "      <td>0.1411</td>\n",
       "      <td>sidak</td>\n",
       "      <td>2.409</td>\n",
       "      <td>0.3301</td>\n",
       "    </tr>\n",
       "    <tr>\n",
       "      <th>9</th>\n",
       "      <td>Medu</td>\n",
       "      <td>brak</td>\n",
       "      <td>Średnie</td>\n",
       "      <td>False</td>\n",
       "      <td>True</td>\n",
       "      <td>1.3135</td>\n",
       "      <td>2.2216</td>\n",
       "      <td>two-sided</td>\n",
       "      <td>0.3082</td>\n",
       "      <td>0.9749</td>\n",
       "      <td>sidak</td>\n",
       "      <td>0.797</td>\n",
       "      <td>0.5859</td>\n",
       "    </tr>\n",
       "  </tbody>\n",
       "</table>\n",
       "</div>"
      ],
      "text/plain": [
       "  Contrast                  A                  B  Paired  Parametric       T  \\\n",
       "0     Medu         Podstawowe  Podstawowe wyższe   False        True -1.4404   \n",
       "1     Medu         Podstawowe             Wyższe   False        True -4.5398   \n",
       "2     Medu         Podstawowe               brak   False        True -2.0787   \n",
       "3     Medu         Podstawowe            Średnie   False        True -2.2139   \n",
       "4     Medu  Podstawowe wyższe             Wyższe   False        True -3.4514   \n",
       "5     Medu  Podstawowe wyższe               brak   False        True -1.5948   \n",
       "6     Medu  Podstawowe wyższe            Średnie   False        True -0.8822   \n",
       "7     Medu             Wyższe               brak   False        True -0.6078   \n",
       "8     Medu             Wyższe            Średnie   False        True  2.4511   \n",
       "9     Medu               brak            Średnie   False        True  1.3135   \n",
       "\n",
       "        dof alternative   p-unc  p-corr p-adjust      BF10   cohen  \n",
       "0  127.0278   two-sided  0.1522  0.8082    sidak     0.455 -0.2313  \n",
       "1  109.6339   two-sided  0.0000  0.0001    sidak  1670.079 -0.7179  \n",
       "2    2.3354   two-sided  0.1546  0.8135    sidak     1.811 -0.9964  \n",
       "3  127.7115   two-sided  0.0286  0.2519    sidak     1.645 -0.3588  \n",
       "4  210.0373   two-sided  0.0007  0.0067    sidak    35.974 -0.4591  \n",
       "5    2.2140   two-sided  0.2398  0.9356    sidak     1.031 -0.7087  \n",
       "6  199.7255   two-sided  0.3787  0.9914    sidak     0.221 -0.1242  \n",
       "7    2.1414   two-sided  0.6015  0.9999    sidak     0.525 -0.2905  \n",
       "8  201.7696   two-sided  0.0151  0.1411    sidak     2.409  0.3301  \n",
       "9    2.2216   two-sided  0.3082  0.9749    sidak     0.797  0.5859  "
      ]
     },
     "execution_count": 28,
     "metadata": {},
     "output_type": "execute_result"
    }
   ],
   "source": [
    "pg.pairwise_ttests(data = data, dv = 'G3', between = 'Medu', effsize='cohen', padjust = 'sidak').round(4) "
   ]
  },
  {
   "cell_type": "markdown",
   "metadata": {},
   "source": [
    "Statystycznie istotne testy post-hoc:"
   ]
  },
  {
   "cell_type": "code",
   "execution_count": 29,
   "metadata": {},
   "outputs": [
    {
     "data": {
      "text/html": [
       "<div>\n",
       "<style scoped>\n",
       "    .dataframe tbody tr th:only-of-type {\n",
       "        vertical-align: middle;\n",
       "    }\n",
       "\n",
       "    .dataframe tbody tr th {\n",
       "        vertical-align: top;\n",
       "    }\n",
       "\n",
       "    .dataframe thead th {\n",
       "        text-align: right;\n",
       "    }\n",
       "</style>\n",
       "<table border=\"1\" class=\"dataframe\">\n",
       "  <thead>\n",
       "    <tr style=\"text-align: right;\">\n",
       "      <th></th>\n",
       "      <th>Contrast</th>\n",
       "      <th>A</th>\n",
       "      <th>B</th>\n",
       "      <th>Paired</th>\n",
       "      <th>Parametric</th>\n",
       "      <th>T</th>\n",
       "      <th>dof</th>\n",
       "      <th>alternative</th>\n",
       "      <th>p-unc</th>\n",
       "      <th>p-corr</th>\n",
       "      <th>p-adjust</th>\n",
       "      <th>BF10</th>\n",
       "      <th>cohen</th>\n",
       "    </tr>\n",
       "  </thead>\n",
       "  <tbody>\n",
       "    <tr>\n",
       "      <th>1</th>\n",
       "      <td>Medu</td>\n",
       "      <td>Podstawowe</td>\n",
       "      <td>Wyższe</td>\n",
       "      <td>False</td>\n",
       "      <td>True</td>\n",
       "      <td>-4.540</td>\n",
       "      <td>109.634</td>\n",
       "      <td>two-sided</td>\n",
       "      <td>0.000</td>\n",
       "      <td>0.000</td>\n",
       "      <td>sidak</td>\n",
       "      <td>1670.079</td>\n",
       "      <td>-0.718</td>\n",
       "    </tr>\n",
       "    <tr>\n",
       "      <th>4</th>\n",
       "      <td>Medu</td>\n",
       "      <td>Podstawowe wyższe</td>\n",
       "      <td>Wyższe</td>\n",
       "      <td>False</td>\n",
       "      <td>True</td>\n",
       "      <td>-3.451</td>\n",
       "      <td>210.037</td>\n",
       "      <td>two-sided</td>\n",
       "      <td>0.001</td>\n",
       "      <td>0.007</td>\n",
       "      <td>sidak</td>\n",
       "      <td>35.974</td>\n",
       "      <td>-0.459</td>\n",
       "    </tr>\n",
       "  </tbody>\n",
       "</table>\n",
       "</div>"
      ],
      "text/plain": [
       "  Contrast                  A       B  Paired  Parametric      T      dof  \\\n",
       "1     Medu         Podstawowe  Wyższe   False        True -4.540  109.634   \n",
       "4     Medu  Podstawowe wyższe  Wyższe   False        True -3.451  210.037   \n",
       "\n",
       "  alternative  p-unc  p-corr p-adjust      BF10  cohen  \n",
       "1   two-sided  0.000   0.000    sidak  1670.079 -0.718  \n",
       "4   two-sided  0.001   0.007    sidak    35.974 -0.459  "
      ]
     },
     "execution_count": 29,
     "metadata": {},
     "output_type": "execute_result"
    }
   ],
   "source": [
    "x = pg.pairwise_ttests(data = data, dv = 'G3', between = 'Medu', effsize='cohen', padjust = 'sidak').round(3)\n",
    "x[x['p-corr'] < 0.05]"
   ]
  },
  {
   "cell_type": "markdown",
   "metadata": {},
   "source": [
    "Przeprowadzono analizę jednoczynnikową ANOVA Welcha w schemacie międzygrupowym w celu sprawdzenia czy poziom wyszktałcenie matki wpływa na wyniki w nauce ucznia. Wynik analizy okazał się istotny statystycznie, F(4, 15.543) = 5.835; p = 0.005 ; d cohena = 0.59. Wynik d Cohena wskazuje na występowanie słabego efektu poziomu wykształcenia matki ucznia. Porównania parami z korektą Sidaka wykazały istnienie istotnych statystycznie różnic między:\n",
    "- Uczniami, których matka ma wykształcenie wyższe a tymi których matka ma wykształcenie podstawowe (p < 0.001)<br>\n",
    "- Uczniami, których matka ma wykształcenie wyższe a tymi których matka ma wykształcenie podstawowe wyższe (p = 0.007)<br>\n",
    "\n",
    "Nie wykazano różnic istotnych statystycznie dla reszty par."
   ]
  },
  {
   "cell_type": "code",
   "execution_count": 30,
   "metadata": {},
   "outputs": [
    {
     "data": {
      "image/png": "[encoded data removed]",
      "text/plain": [
       "<Figure size 576x432 with 1 Axes>"
      ]
     },
     "metadata": {},
     "output_type": "display_data"
    }
   ],
   "source": [
    "plt.style.use(\"ggplot\")\n",
    "\n",
    "fig, ax = plt.subplots(figsize=(8, 6))\n",
    "\n",
    "sns.barplot(x='Medu',y='G3',data=data,\n",
    "            order=[\"Wyższe\",\"Średnie\",\"Podstawowe wyższe\", 'Podstawowe', 'brak'],capsize=.15,errwidth=3)\n",
    "\n",
    "ax.set_xlabel(\"Poziom wykształcenia\")\n",
    "ax.set_ylabel(\"Ocena na koniec roku\")\n",
    "\n",
    "ax.set_ylim(0,20);\n"
   ]
  },
  {
   "cell_type": "markdown",
   "metadata": {},
   "source": [
    "## Analiza korelacji\n"
   ]
  },
  {
   "cell_type": "markdown",
   "metadata": {},
   "source": [
    "Czy wiek jest powiązany z nieobecnościami ucznia?"
   ]
  },
  {
   "cell_type": "markdown",
   "metadata": {},
   "source": [
    "H0: Wiek nie koreluje z nieobecnościami ucznia.<br>\n",
    "H1: Wiek koreluje z nieobecnościami ucznia."
   ]
  },
  {
   "cell_type": "code",
   "execution_count": 31,
   "metadata": {},
   "outputs": [
    {
     "data": {
      "text/html": [
       "<div>\n",
       "<style scoped>\n",
       "    .dataframe tbody tr th:only-of-type {\n",
       "        vertical-align: middle;\n",
       "    }\n",
       "\n",
       "    .dataframe tbody tr th {\n",
       "        vertical-align: top;\n",
       "    }\n",
       "\n",
       "    .dataframe thead th {\n",
       "        text-align: right;\n",
       "    }\n",
       "</style>\n",
       "<table border=\"1\" class=\"dataframe\">\n",
       "  <thead>\n",
       "    <tr style=\"text-align: right;\">\n",
       "      <th></th>\n",
       "      <th>n</th>\n",
       "      <th>r</th>\n",
       "      <th>CI95%</th>\n",
       "      <th>p-val</th>\n",
       "      <th>BF10</th>\n",
       "      <th>power</th>\n",
       "    </tr>\n",
       "  </thead>\n",
       "  <tbody>\n",
       "    <tr>\n",
       "      <th>pearson</th>\n",
       "      <td>395</td>\n",
       "      <td>0.175</td>\n",
       "      <td>[0.08, 0.27]</td>\n",
       "      <td>0.0</td>\n",
       "      <td>28.025</td>\n",
       "      <td>0.939</td>\n",
       "    </tr>\n",
       "  </tbody>\n",
       "</table>\n",
       "</div>"
      ],
      "text/plain": [
       "           n      r         CI95%  p-val    BF10  power\n",
       "pearson  395  0.175  [0.08, 0.27]    0.0  28.025  0.939"
      ]
     },
     "execution_count": 31,
     "metadata": {},
     "output_type": "execute_result"
    }
   ],
   "source": [
    "pg.corr(x=data['age'], y=data['absences']).round(3)"
   ]
  },
  {
   "cell_type": "code",
   "execution_count": 32,
   "metadata": {},
   "outputs": [
    {
     "data": {
      "image/png": "[encoded data removed]",
      "text/plain": [
       "<Figure size 360x360 with 1 Axes>"
      ]
     },
     "metadata": {},
     "output_type": "display_data"
    }
   ],
   "source": [
    "g = sns.lmplot(x = \"age\", y = \"absences\", data = data, scatter_kws = {\"s\":20, \"alpha\":0.6})\n",
    "\n",
    "g.set(xlabel = \"Wiek ucznia\", ylabel = \"Ilość nieobecności w szkole\");"
   ]
  },
  {
   "cell_type": "markdown",
   "metadata": {},
   "source": [
    "W celu sprawdzenia czy wiek jest powiązany z nieobecnościami ucznia wykonano analizę korelacji r Pearsona. Wynik analizy okazał się istotny statystycznie, r =0.175 ; p < 0.001. Istnieje słaba, dodatnia korelacja pomiędzy zmiennymi. (Wraz ze wzrostem wieku ucznia wzrasta ilość nieobecności w szkole)."
   ]
  },
  {
   "cell_type": "markdown",
   "metadata": {},
   "source": [
    "## Analiza regresji"
   ]
  },
  {
   "cell_type": "markdown",
   "metadata": {},
   "source": [
    "Czy mozna przewidywać ocenę końcową ucznia na podstawie ilości nieobecności w roku szkolnym i wieku ucznia?"
   ]
  },
  {
   "cell_type": "code",
   "execution_count": 33,
   "metadata": {},
   "outputs": [],
   "source": [
    "import statsmodels.api as sm\n",
    "import statsmodels.formula.api as smf\n",
    "\n",
    "model = smf.ols('G3 ~ age + absences', data = data).fit()\n",
    "results = model.summary()"
   ]
  },
  {
   "cell_type": "code",
   "execution_count": 34,
   "metadata": {},
   "outputs": [
    {
     "data": {
      "text/html": [
       "<table class=\"simpletable\">\n",
       "<caption>OLS Regression Results</caption>\n",
       "<tr>\n",
       "  <th>Dep. Variable:</th>           <td>G3</td>        <th>  R-squared:         </th> <td>   0.030</td>\n",
       "</tr>\n",
       "<tr>\n",
       "  <th>Model:</th>                   <td>OLS</td>       <th>  Adj. R-squared:    </th> <td>   0.025</td>\n",
       "</tr>\n",
       "<tr>\n",
       "  <th>Method:</th>             <td>Least Squares</td>  <th>  F-statistic:       </th> <td>   6.092</td>\n",
       "</tr>\n",
       "<tr>\n",
       "  <th>Date:</th>             <td>Wed, 26 Jan 2022</td> <th>  Prob (F-statistic):</th>  <td>0.00248</td>\n",
       "</tr>\n",
       "<tr>\n",
       "  <th>Time:</th>                 <td>12:34:41</td>     <th>  Log-Likelihood:    </th> <td> -1155.1</td>\n",
       "</tr>\n",
       "<tr>\n",
       "  <th>No. Observations:</th>      <td>   395</td>      <th>  AIC:               </th> <td>   2316.</td>\n",
       "</tr>\n",
       "<tr>\n",
       "  <th>Df Residuals:</th>          <td>   392</td>      <th>  BIC:               </th> <td>   2328.</td>\n",
       "</tr>\n",
       "<tr>\n",
       "  <th>Df Model:</th>              <td>     2</td>      <th>                     </th>     <td> </td>   \n",
       "</tr>\n",
       "<tr>\n",
       "  <th>Covariance Type:</th>      <td>nonrobust</td>    <th>                     </th>     <td> </td>   \n",
       "</tr>\n",
       "</table>\n",
       "<table class=\"simpletable\">\n",
       "<tr>\n",
       "      <td></td>         <th>coef</th>     <th>std err</th>      <th>t</th>      <th>P>|t|</th>  <th>[0.025</th>    <th>0.975]</th>  \n",
       "</tr>\n",
       "<tr>\n",
       "  <th>Intercept</th> <td>   20.5681</td> <td>    3.013</td> <td>    6.827</td> <td> 0.000</td> <td>   14.645</td> <td>   26.491</td>\n",
       "</tr>\n",
       "<tr>\n",
       "  <th>age</th>       <td>   -0.6207</td> <td>    0.181</td> <td>   -3.422</td> <td> 0.001</td> <td>   -0.977</td> <td>   -0.264</td>\n",
       "</tr>\n",
       "<tr>\n",
       "  <th>absences</th>  <td>    0.0369</td> <td>    0.029</td> <td>    1.278</td> <td> 0.202</td> <td>   -0.020</td> <td>    0.094</td>\n",
       "</tr>\n",
       "</table>\n",
       "<table class=\"simpletable\">\n",
       "<tr>\n",
       "  <th>Omnibus:</th>       <td>27.044</td> <th>  Durbin-Watson:     </th> <td>   1.997</td>\n",
       "</tr>\n",
       "<tr>\n",
       "  <th>Prob(Omnibus):</th> <td> 0.000</td> <th>  Jarque-Bera (JB):  </th> <td>  30.671</td>\n",
       "</tr>\n",
       "<tr>\n",
       "  <th>Skew:</th>          <td>-0.668</td> <th>  Prob(JB):          </th> <td>2.19e-07</td>\n",
       "</tr>\n",
       "<tr>\n",
       "  <th>Kurtosis:</th>      <td> 3.278</td> <th>  Cond. No.          </th> <td>    238.</td>\n",
       "</tr>\n",
       "</table><br/><br/>Notes:<br/>[1] Standard Errors assume that the covariance matrix of the errors is correctly specified."
      ],
      "text/plain": [
       "<class 'statsmodels.iolib.summary.Summary'>\n",
       "\"\"\"\n",
       "                            OLS Regression Results                            \n",
       "==============================================================================\n",
       "Dep. Variable:                     G3   R-squared:                       0.030\n",
       "Model:                            OLS   Adj. R-squared:                  0.025\n",
       "Method:                 Least Squares   F-statistic:                     6.092\n",
       "Date:                Wed, 26 Jan 2022   Prob (F-statistic):            0.00248\n",
       "Time:                        12:34:41   Log-Likelihood:                -1155.1\n",
       "No. Observations:                 395   AIC:                             2316.\n",
       "Df Residuals:                     392   BIC:                             2328.\n",
       "Df Model:                           2                                         \n",
       "Covariance Type:            nonrobust                                         \n",
       "==============================================================================\n",
       "                 coef    std err          t      P>|t|      [0.025      0.975]\n",
       "------------------------------------------------------------------------------\n",
       "Intercept     20.5681      3.013      6.827      0.000      14.645      26.491\n",
       "age           -0.6207      0.181     -3.422      0.001      -0.977      -0.264\n",
       "absences       0.0369      0.029      1.278      0.202      -0.020       0.094\n",
       "==============================================================================\n",
       "Omnibus:                       27.044   Durbin-Watson:                   1.997\n",
       "Prob(Omnibus):                  0.000   Jarque-Bera (JB):               30.671\n",
       "Skew:                          -0.668   Prob(JB):                     2.19e-07\n",
       "Kurtosis:                       3.278   Cond. No.                         238.\n",
       "==============================================================================\n",
       "\n",
       "Notes:\n",
       "[1] Standard Errors assume that the covariance matrix of the errors is correctly specified.\n",
       "\"\"\""
      ]
     },
     "execution_count": 34,
     "metadata": {},
     "output_type": "execute_result"
    }
   ],
   "source": [
    "results"
   ]
  },
  {
   "cell_type": "markdown",
   "metadata": {},
   "source": [
    "W celu sprawdzenia czy można przewidywać ocenę końcową ucznia na podstawie ilości czasu wolnego i czasu spędzonego na spotakaniach towarzyskich, wykonano analizę wielozmiennowej regresji liniowej. Proponowany model okazał się dobrze dopasowany do danych, F(2, 392) = 6.092 ; p = 0.00248. Model ten przewiduje 2.5% wariancji oceny. Równanie regresji można zapisać za pomocą wzoru:\n",
    "\n",
    "**ocena = 20.5681 -0.6207 * age + 0.0369 * absences**"
   ]
  },
  {
   "cell_type": "markdown",
   "metadata": {},
   "source": [
    "##### Analiza cząstkowa"
   ]
  },
  {
   "cell_type": "code",
   "execution_count": 35,
   "metadata": {},
   "outputs": [
    {
     "data": {
      "text/html": [
       "<div>\n",
       "<style scoped>\n",
       "    .dataframe tbody tr th:only-of-type {\n",
       "        vertical-align: middle;\n",
       "    }\n",
       "\n",
       "    .dataframe tbody tr th {\n",
       "        vertical-align: top;\n",
       "    }\n",
       "\n",
       "    .dataframe thead th {\n",
       "        text-align: right;\n",
       "    }\n",
       "</style>\n",
       "<table border=\"1\" class=\"dataframe\">\n",
       "  <thead>\n",
       "    <tr style=\"text-align: right;\">\n",
       "      <th></th>\n",
       "      <th>absences</th>\n",
       "      <th>age</th>\n",
       "      <th>G3</th>\n",
       "    </tr>\n",
       "  </thead>\n",
       "  <tbody>\n",
       "    <tr>\n",
       "      <th>absences</th>\n",
       "      <td>1.000000</td>\n",
       "      <td>0.183278</td>\n",
       "      <td>0.064390</td>\n",
       "    </tr>\n",
       "    <tr>\n",
       "      <th>age</th>\n",
       "      <td>0.183278</td>\n",
       "      <td>1.000000</td>\n",
       "      <td>-0.170314</td>\n",
       "    </tr>\n",
       "    <tr>\n",
       "      <th>G3</th>\n",
       "      <td>0.064390</td>\n",
       "      <td>-0.170314</td>\n",
       "      <td>1.000000</td>\n",
       "    </tr>\n",
       "  </tbody>\n",
       "</table>\n",
       "</div>"
      ],
      "text/plain": [
       "          absences       age        G3\n",
       "absences  1.000000  0.183278  0.064390\n",
       "age       0.183278  1.000000 -0.170314\n",
       "G3        0.064390 -0.170314  1.000000"
      ]
     },
     "execution_count": 35,
     "metadata": {},
     "output_type": "execute_result"
    }
   ],
   "source": [
    "reg =data[['absences', 'age', 'G3']]\n",
    "reg.pcorr()"
   ]
  },
  {
   "cell_type": "markdown",
   "metadata": {},
   "source": [
    "Wiek ucznia (r = -0.170 ; p = 0.001) jest słabo, negatywnie powiązany z ocena końcową. Natomiast ilość nieobecności (r = 0.064 ; p = 0.202) jest nieistontny statystycznie predyktorem oceny uczniów.\n"
   ]
  },
  {
   "cell_type": "markdown",
   "metadata": {},
   "source": [
    "##### Wizualizacja danych"
   ]
  },
  {
   "cell_type": "code",
   "execution_count": 36,
   "metadata": {},
   "outputs": [
    {
     "data": {
      "image/png": "[encoded data removed]",
      "text/plain": [
       "<Figure size 360x360 with 1 Axes>"
      ]
     },
     "metadata": {},
     "output_type": "display_data"
    }
   ],
   "source": [
    "g = sns.lmplot(x = \"age\", y = \"G3\", data = data, scatter_kws = {\"s\":20, \"alpha\":0.6})\n",
    "\n",
    "g.set(xlabel = \"Wiek ucznia\", ylabel = \"Ocena końcowa\");"
   ]
  },
  {
   "cell_type": "code",
   "execution_count": 37,
   "metadata": {},
   "outputs": [
    {
     "data": {
      "image/png": "[encoded data removed]",
      "text/plain": [
       "<Figure size 360x360 with 1 Axes>"
      ]
     },
     "metadata": {},
     "output_type": "display_data"
    }
   ],
   "source": [
    "g = sns.lmplot(x = \"absences\", y = \"G3\", data = data, scatter_kws = {\"s\":20, \"alpha\":0.6})\n",
    "\n",
    "g.set(xlabel = \"Nieobecności\", ylabel = \"Ocena końcowa\");"
   ]
  },
  {
   "cell_type": "code",
   "execution_count": 38,
   "metadata": {},
   "outputs": [
    {
     "data": {
      "image/png": "[encoded data removed]",
      "text/plain": [
       "<Figure size 864x576 with 1 Axes>"
      ]
     },
     "metadata": {},
     "output_type": "display_data"
    }
   ],
   "source": [
    "plot_estimates(model=model)"
   ]
  }
 ],
 "metadata": {
  "interpreter": {
   "hash": "52194f71dea574c6e56bf5007aa3e88419b51bd980d6b4e637d41d407030bb03"
  },
  "kernelspec": {
   "display_name": "Python 3.9.7 64-bit",
   "name": "python3"
  },
  "language_info": {
   "codemirror_mode": {
    "name": "ipython",
    "version": 3
   },
   "file_extension": ".py",
   "mimetype": "text/x-python",
   "name": "python",
   "nbconvert_exporter": "python",
   "pygments_lexer": "ipython3",
   "version": "3.8.8"
  },
  "orig_nbformat": 4
 },
 "nbformat": 4,
 "nbformat_minor": 2
}
